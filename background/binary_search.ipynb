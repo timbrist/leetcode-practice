{
 "cells": [
  {
   "cell_type": "markdown",
   "metadata": {},
   "source": [
    "## Binary Search \n",
    "\n",
    "### background\n",
    "Set $X = [x_0, x_1, ..., x_n]$ t is an given number.  \n",
    "Find t in $X$ \n",
    "\n",
    "### analysis\n",
    "Set $X[s:i-1] = [x_0, x_2, ..., x_{i-1}],\\quad X[i:e] = [x_i, x_{i+1},...x_n]$ where $s = 0, e = n, i = \\frac{s+e}{2}$  \n",
    "$\n",
    "\\\\\n",
    " \\\\ \n",
    "f(X[s:e]) = \\begin{cases} \n",
    "      f(X[s:i]) & X[i] < target \\\\\n",
    "      f(X[i:e]) &  X[i] > target \\\\\n",
    "\\end{cases}\n",
    "$"
   ]
  }
 ],
 "metadata": {
  "language_info": {
   "name": "python"
  }
 },
 "nbformat": 4,
 "nbformat_minor": 2
}
