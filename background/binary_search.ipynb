{
 "cells": [
  {
   "cell_type": "markdown",
   "metadata": {},
   "source": [
    "## Binary Search \n",
    "\n",
    "### background\n",
    "Set $X = [x_0, x_1, ..., x_n]$, where $x_0<x_1<...<x_n$ and t is an given number  \n",
    "find a function $f:(X,t) \\mapsto i$, where $X[i] = t$   . \n",
    "\n",
    "### Algorithm\n",
    "Recursive:  \n",
    "$\n",
    "f(X,l,h,t) := \\\\\n",
    "\\quad l \\leq h \\rightarrow \\\\\n",
    "\\quad \\quad i \\leftarrow \\lfloor \\frac{l+h}{2}\\rfloor \\\\\n",
    "\\quad \\quad X[i] = t \\rightarrow i \\\\\n",
    "\\quad \\quad X[i] > t \\rightarrow f(X, l, i-1, t) \\\\\n",
    "\\quad \\quad X[i] < t \\rightarrow f(X, i+1, h, t) \\\\\n",
    "\\quad l > h \\rightarrow -1\n",
    "$\n",
    "\n",
    "iterative:  \n",
    "$\n",
    "f(X,l,h,t) := \\\\\n",
    "\\quad \\forall l \\leq h \\rightarrow \\\\\n",
    "\\quad \\quad i \\leftarrow \\lfloor \\frac{l+h}{2}\\rfloor \\\\\n",
    "\\quad \\quad X[i] = t \\rightarrow i \\\\\n",
    "\\quad \\quad X[i] > t \\rightarrow (h\\leftarrow i-1) \\\\\n",
    "\\quad \\quad X[i] < t \\rightarrow (l\\leftarrow i+1) \\\\\n",
    "\\quad -1\n",
    "$"
   ]
  },
  {
   "cell_type": "code",
   "execution_count": 1,
   "metadata": {},
   "outputs": [
    {
     "name": "stdout",
     "output_type": "stream",
     "text": [
      "Element is present at index 3\n"
     ]
    }
   ],
   "source": [
    "def binary_search(arr, low, high, target):\n",
    "    if high >= low:\n",
    "        mid = (low + high) // 2\n",
    "\n",
    "        # If the element is present at the middle itself\n",
    "        if arr[mid] == target:\n",
    "            return mid\n",
    "\n",
    "        # If the element is smaller than mid, then it can only be present in the left subarray\n",
    "        elif arr[mid] > target:\n",
    "            return binary_search(arr, low, mid - 1, target)\n",
    "\n",
    "        # Else the element can only be present in the right subarray\n",
    "        else:\n",
    "            return binary_search(arr, mid + 1, high, target)\n",
    "\n",
    "    else:\n",
    "        # Element is not present in the array\n",
    "        return -1\n",
    "\n",
    "def b_search(X, t):\n",
    "    return binary_search(X, 0, len(arr) - 1, t)\n",
    "\n",
    "# Example usage:\n",
    "arr = [2, 3, 4, 10, 40]\n",
    "target = 10\n",
    "\n",
    "# Function call\n",
    "result = b_search(arr, target)\n",
    "\n",
    "if result != -1:\n",
    "    print(\"Element is present at index\", result)\n",
    "else:\n",
    "    print(\"Element is not present in array\")\n"
   ]
  }
 ],
 "metadata": {
  "kernelspec": {
   "display_name": "Python 3",
   "language": "python",
   "name": "python3"
  },
  "language_info": {
   "codemirror_mode": {
    "name": "ipython",
    "version": 3
   },
   "file_extension": ".py",
   "mimetype": "text/x-python",
   "name": "python",
   "nbconvert_exporter": "python",
   "pygments_lexer": "ipython3",
   "version": "3.10.11"
  }
 },
 "nbformat": 4,
 "nbformat_minor": 2
}
