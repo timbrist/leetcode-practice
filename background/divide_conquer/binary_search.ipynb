{
 "cells": [
  {
   "cell_type": "markdown",
   "metadata": {},
   "source": [
    "## Binary Search \n",
    "\n",
    "### background\n",
    "Set $X = [x_0, x_1, ..., x_n]$, where $x_0<x_1<...<x_n$ and t is an given number  \n",
    "find a function $f:(X,t) \\mapsto i$, where $X[i] = t$   . \n"
   ]
  },
  {
   "cell_type": "markdown",
   "metadata": {},
   "source": [
    "Recursive:  \n",
    "$\n",
    "f(X,l,h,t) := \\\\\n",
    "\\quad l \\leq h \\rightarrow \\\\\n",
    "\\quad \\quad i \\leftarrow \\lfloor \\frac{l+h}{2}\\rfloor \\\\\n",
    "\\quad \\quad X[i] = t \\rightarrow i \\\\\n",
    "\\quad \\quad X[i] > t \\rightarrow f(X, l, i-1, t) \\\\\n",
    "\\quad \\quad X[i] < t \\rightarrow f(X, i+1, h, t) \\\\\n",
    "\\quad l > h \\rightarrow -1\n",
    "$"
   ]
  },
  {
   "cell_type": "code",
   "execution_count": 1,
   "metadata": {},
   "outputs": [
    {
     "name": "stdout",
     "output_type": "stream",
     "text": [
      "Element is present at index 3\n"
     ]
    }
   ],
   "source": [
    "def f(X,l,h,t):\n",
    "    if l<=h:\n",
    "        i = (l+h)//2\n",
    "        if X[i] == t:   return i\n",
    "        elif X[i] > t:  return f(X,l,i-1,t)\n",
    "        else:           return f(X,i+1, h,t)\n",
    "    else:\n",
    "        return -1\n",
    "\n",
    "# Example usage:\n",
    "arr = [2, 3, 4, 10, 40]\n",
    "target = 10 \n",
    "res = f(arr, 0, len(arr) - 1, target)\n",
    "if res != -1:\n",
    "    print(\"Element is present at index\", res)\n",
    "else:\n",
    "    print(\"Element is not present in array\")"
   ]
  },
  {
   "cell_type": "markdown",
   "metadata": {},
   "source": [
    "\n",
    "iterative:  \n",
    "$\n",
    "f(X,l,h,t) := \\\\\n",
    "\\quad \\forall l \\leq h \\rightarrow \\\\\n",
    "\\quad \\quad i \\leftarrow \\lfloor \\frac{l+h}{2}\\rfloor \\\\\n",
    "\\quad \\quad X[i] = t \\rightarrow i \\\\\n",
    "\\quad \\quad X[i] > t \\rightarrow (h\\leftarrow i-1) \\\\\n",
    "\\quad \\quad X[i] < t \\rightarrow (l\\leftarrow i+1) \\\\\n",
    "\\quad -1\n",
    "$"
   ]
  },
  {
   "cell_type": "code",
   "execution_count": 2,
   "metadata": {},
   "outputs": [
    {
     "name": "stdout",
     "output_type": "stream",
     "text": [
      "Element is present at index 3\n"
     ]
    }
   ],
   "source": [
    "def f(X,l,h,t):\n",
    "    while l<=h:\n",
    "        i = (l+h)//2\n",
    "        if X[i] == t:   return i\n",
    "        elif X[i] > t:  h = i-1\n",
    "        else:           l = i+1\n",
    "    return -1\n",
    "# Example usage:\n",
    "arr = [2, 3, 4, 10, 40]\n",
    "target = 10 \n",
    "res = f(arr, 0, len(arr) - 1, target)\n",
    "if res != -1:\n",
    "    print(\"Element is present at index\", res)\n",
    "else:\n",
    "    print(\"Element is not present in array\")"
   ]
  },
  {
   "cell_type": "markdown",
   "metadata": {},
   "source": [
    "### Example: \n",
    "\n",
    "1.1 Suppose you have a sorted list of 128 names, and you’re searching\n",
    "through it using binary search. What’s the maximum number of\n",
    "steps it would take?"
   ]
  },
  {
   "cell_type": "code",
   "execution_count": 3,
   "metadata": {},
   "outputs": [
    {
     "name": "stdout",
     "output_type": "stream",
     "text": [
      "Element is present at index 57\n"
     ]
    }
   ],
   "source": [
    "names = [\n",
    "    \"Abigail\", \"Alexander\", \"Alice\", \"Amelia\", \"Anna\", \"Anthony\", \"Ava\", \"Benjamin\",\n",
    "    \"Caleb\", \"Charlotte\", \"Chloe\", \"Christopher\", \"Daniel\", \"David\", \"Eleanor\", \"Elizabeth\",\n",
    "    \"Ella\", \"Emily\", \"Emma\", \"Ethan\", \"Evelyn\", \"Gabriel\", \"Grace\", \"Hannah\", \"Harper\", \"Henry\",\n",
    "    \"Isabella\", \"Jack\", \"Jackson\", \"Jacob\", \"James\", \"John\", \"Jonathan\", \"Joseph\", \"Joshua\",\n",
    "    \"Julia\", \"Katherine\", \"Leah\", \"Liam\", \"Lily\", \"Logan\", \"Lucas\", \"Mason\", \"Matthew\", \"Mia\",\n",
    "    \"Michael\", \"Nathan\", \"Natalie\", \"Nicholas\", \"Noah\", \"Olivia\", \"Owen\", \"Penelope\", \"Riley\",\n",
    "    \"Ryan\", \"Samuel\", \"Sarah\", \"Sophia\", \"Stella\", \"Thomas\", \"Victoria\", \"William\"\n",
    "]\n",
    "\n",
    "target =  \"Sophia\"\n",
    "res_name = f(names, 0, len(names) - 1, target)\n",
    "if res_name != -1:\n",
    "    print(\"Element is present at index\", res_name)\n",
    "else:\n",
    "    print(\"Element is not present in array\")\n"
   ]
  }
 ],
 "metadata": {
  "kernelspec": {
   "display_name": "Python 3",
   "language": "python",
   "name": "python3"
  },
  "language_info": {
   "codemirror_mode": {
    "name": "ipython",
    "version": 3
   },
   "file_extension": ".py",
   "mimetype": "text/x-python",
   "name": "python",
   "nbconvert_exporter": "python",
   "pygments_lexer": "ipython3",
   "version": "3.10.11"
  }
 },
 "nbformat": 4,
 "nbformat_minor": 2
}
