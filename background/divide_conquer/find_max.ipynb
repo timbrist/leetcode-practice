{
 "cells": [
  {
   "cell_type": "markdown",
   "metadata": {},
   "source": [
    "Finding the Maximum/Minimum Element: Write a function to find the maximum or minimum element in an array using the divide-and-conquer approach. Divide the array into two halves, find the maximum/minimum in each half, and then compare the results."
   ]
  },
  {
   "cell_type": "code",
   "execution_count": null,
   "metadata": {},
   "outputs": [],
   "source": [
    "def f(X):\n",
    "    if "
   ]
  }
 ],
 "metadata": {
  "language_info": {
   "name": "python"
  }
 },
 "nbformat": 4,
 "nbformat_minor": 2
}
