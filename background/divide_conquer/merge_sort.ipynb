{
 "cells": [
  {
   "cell_type": "markdown",
   "metadata": {},
   "source": [
    "### Merge Sort (Divide-and-Conquer)\n",
    "\n",
    "Set unsorted array $A = [a_0, a_1, ..., a_n]$  \n",
    "Find function $M(A) = [a_0, a_1,...,a_n]$ where $a_0 < a_1 < ... < a_n$   \n"
   ]
  },
  {
   "cell_type": "markdown",
   "metadata": {},
   "source": [
    "## Analysis\n",
    "\n",
    "imagin the Merge sort is a postorder tree traversal.\n",
    "\n",
    "[Lemma 1.1](https://jeffe.cs.illinois.edu/teaching/algorithms/). Merge correctly merges the subarrays A[1 .. m] and A[m + 1 .. n], assuming those subarrays are sorted in the input.   --- page 27, Chapter resursion."
   ]
  },
  {
   "cell_type": "markdown",
   "metadata": {},
   "source": [
    "### Divide\n",
    "Assume The Array $A = [a_0, a_1, ..., a_n]$ is unsorted   \n",
    "Find a function $f(A) \\mapsto (L,R) $ where $L = [a_0, a_1, ..., a_m], R = [a_{m+1}, a_{m+2}, ...,a_n], m= \\lfloor \\frac{n}{2} \\rfloor$\n",
    "![divide](./imgs/divide.png)\n",
    "\n",
    "We recursively divide the array $A$ into subarray $L$ and $R$ until the subarray size is 1.  \n",
    "$\n",
    "f(A[0:n]) = (n > 1) \\rightarrow (f(A[0:m-1]), f(A[m:n]))\n",
    "$\n",
    "\n",
    "Now we got a binary tree with height $h = log_{2}(n+1)$ "
   ]
  },
  {
   "cell_type": "markdown",
   "metadata": {},
   "source": [
    "### The smallest problem \n",
    "\n",
    "when the subarray $L$ and $R$ has the size 1.   \n",
    "![samllest](./imgs/smallest_subarray.png)\n"
   ]
  },
  {
   "cell_type": "markdown",
   "metadata": {},
   "source": [
    "### Conquer\n",
    "Assume the subarrays $L = [a_0, a_1, ..., a_m], R = [a_{m+1}, a_{m+2}, ...,a_n]$ are sorted.  \n",
    "Find a function $g(L,R) \\mapsto B_{sorted}$\n",
    "\n",
    "compare one by one, the smaller array index increase by 1.  \n",
    "![conquer_merge](./imgs/conquer.png)\n",
    "\n",
    "instruction to iterate the subarray.  \n",
    "\n",
    "$\n",
    "\\forall (i \\in \\N, i < |L|) \\land (j \\in \\N, j<|R|) \\\\\n",
    "(B[k], i, j) = \\begin{cases}\n",
    "    (L[i], i\\leftarrow i+1, j)&L[i] < R[j] \\\\\n",
    "    (R[j],i, j\\leftarrow j+1)&else \\\\\n",
    "\\end{cases}, k\\leftarrow k+1  \n",
    "$\n",
    "\n",
    "Because the Array B will always be the same size as the smaller on between L and R,\n",
    "We have to add the rest of the larger subarry.  \n",
    "\n",
    "$\n",
    "\\forall (i<|L|) \\rightarrow (X[k]\\leftarrow L[i], i\\leftarrow i+1,k\\leftarrow k+1)\\\\\n",
    "\\forall (j<|R|) \\rightarrow (X[k]\\leftarrow R[j], j\\leftarrow j+1,k\\leftarrow k+1)\\\\\n",
    "$"
   ]
  },
  {
   "cell_type": "markdown",
   "metadata": {},
   "source": [
    "### Summary of Analysis\n",
    "\n",
    "We divide the given Array $A$ into subarray $L$ and $R$, and we keep divide $L$ and $R$ until the size of them is 1.\n",
    "then we combine the smallest subarray to a sorted subarrays until only one array."
   ]
  },
  {
   "cell_type": "code",
   "execution_count": 4,
   "metadata": {},
   "outputs": [
    {
     "name": "stdout",
     "output_type": "stream",
     "text": [
      "Given array is [12, 11, 13, 5, 6, 7]\n",
      "\n",
      "Sorted array is  [5, 5, 7, 11, 11, 12]\n"
     ]
    }
   ],
   "source": [
    "def f(X):\n",
    "    if len(X) > 1:\n",
    "        m = len(X)//2\n",
    "        L = X[:m]\n",
    "        R = X[m:]\n",
    "        f(L), f(R)\n",
    "        i=j=k=0\n",
    "        while i<len(L) and j<len(R):\n",
    "            if L[i] <= R[j]:    \n",
    "                X[k]=L[i]\n",
    "                i+=1\n",
    "            else:\n",
    "                X[k]=R[j]\n",
    "                j+=1\n",
    "            k+=1\n",
    "        while i<len(L):\n",
    "            X[k] = L[i]\n",
    "            i+=1\n",
    "            k+=1\n",
    "        while j<len(R):\n",
    "            X[k] = R[j]\n",
    "            j+=1\n",
    "            k+=1\n",
    "arr = [12, 11, 13, 5, 6, 7]\n",
    "print(\"Given array is\",arr)\n",
    "f(arr)\n",
    "print(\"\\nSorted array is \", arr)"
   ]
  },
  {
   "cell_type": "markdown",
   "metadata": {},
   "source": [
    "## Another way to think about merge sort\n",
    "\n",
    "In the previous section, we discribe that the dividing process looks like a binary tree. \n",
    "In this section, we will actually create a tree to illustrate the idea.\n",
    "\n",
    "Given an array $A = [a_0, a_1, ..., a_n] $  \n",
    "Find a dividing function $f(A) \\mapsto T$ where $ T= { (N,L,R)}$ we define the $N$ is the node of the tree, which is a subarray.  \n",
    "Find a conquering function  $f(T) \\mapsto B$ where $B$ is a sorted array.  \n",
    "\n"
   ]
  },
  {
   "cell_type": "code",
   "execution_count": 9,
   "metadata": {},
   "outputs": [
    {
     "name": "stdout",
     "output_type": "stream",
     "text": [
      "[11, 13]\n",
      "[11, 12, 13]\n",
      "[6, 7]\n",
      "[5, 6, 7]\n",
      "[5, 6, 7, 11, 12, 13]\n"
     ]
    }
   ],
   "source": [
    "# a structure of binary tree.\n",
    "class Node:\n",
    "    def __init__(self, key):\n",
    "        self.left = None\n",
    "        self.right = None\n",
    "        self.val = key\n",
    "\n",
    "def divide(A, T):\n",
    "    T.val = A\n",
    "    if len(A) > 1:\n",
    "        m = len(A)//2\n",
    "        L = A[:m]\n",
    "        R = A[m:]\n",
    "        empty =[]\n",
    "        T.left = Node(empty)\n",
    "        T.right = Node(empty)\n",
    "        divide(L,T.left)\n",
    "        divide(R,T.right)\n",
    "\n",
    "def conquer(T,B):\n",
    "    B = T.val\n",
    "    if T.left is not None and T.right is not None:\n",
    "        conquer(T.left,B)\n",
    "        conquer(T.right,B)\n",
    "        \n",
    "        # now here you should imagin the T.left.val and  T.right.val is sorted subarray\n",
    "        L = T.left.val\n",
    "        R = T.right.val\n",
    "        i=j=k=0\n",
    "        while i<len(L) and j<len(R):\n",
    "            if L[i] <= R[j]:    \n",
    "                B[k]=L[i]\n",
    "                i+=1\n",
    "            else:\n",
    "                B[k]=R[j]\n",
    "                j+=1\n",
    "            k+=1\n",
    "        while i<len(L):\n",
    "            B[k] = L[i]\n",
    "            i+=1\n",
    "            k+=1\n",
    "        while j<len(R):\n",
    "            B[k] = R[j]\n",
    "            j+=1\n",
    "            k+=1\n",
    "        print(B)\n",
    "            \n",
    "\n",
    "        \n",
    "def print_tree_postorder(root, level=0, prefix=\"Root:\"):\n",
    "    if root is not None:\n",
    "        print_tree_postorder(root.left, level + 1, \"L:\")\n",
    "        print_tree_postorder(root.right, level + 1, \"R:\")\n",
    "        print(\" \" * (level * 4) + prefix, root.val)\n",
    "\n",
    "arr = [12, 11, 13, 5, 6, 7]\n",
    "em = []\n",
    "b_tree = Node(em)\n",
    "\n",
    "divide(arr, b_tree)\n",
    "b = []\n",
    "conquer(b_tree,b)"
   ]
  },
  {
   "cell_type": "markdown",
   "metadata": {},
   "source": [
    "## Algorithm\n",
    "This is imaginary notation (imaginotation).  \n",
    "$\n",
    "f(X):= \\\\\n",
    "\\quad |X| >1 \\rightarrow \\\\\n",
    "\\quad\\quad m \\leftarrow \\lfloor\\frac{|X|}{2}\\rfloor \\\\\n",
    "\\quad\\quad L \\leftarrow X[0:m],\\quad R \\leftarrow X[m:|X|]\\\\\n",
    "\\quad\\quad f(L),\\quad f(R) \\\\ \n",
    "\\quad\\quad i=j=k=0 \\\\\n",
    "\\quad\\quad \\forall (i<|L|)\\land(j<|R|) \\rightarrow \\\\\n",
    "\\quad\\quad\\quad L[i] \\leq R[j] \\rightarrow (X[k] \\leftarrow L[i], i\\leftarrow i+1) \\\\\n",
    "\\quad\\quad\\quad L[i] > R[j] \\rightarrow (X[k] \\leftarrow R[j], j\\leftarrow j+1) \\\\\n",
    "\\quad\\quad\\quad k\\leftarrow k+1 \\\\ \n",
    "\\quad\\quad \\forall (i<|L|) \\rightarrow (X[k]\\leftarrow L[i], i\\leftarrow i+1,k\\leftarrow k+1)\\\\\n",
    "\\quad\\quad \\forall (j<|R|) \\rightarrow (X[k]\\leftarrow R[j], j\\leftarrow j+1,k\\leftarrow k+1)\\\\\\\\\n",
    "$\n"
   ]
  }
 ],
 "metadata": {
  "kernelspec": {
   "display_name": "Python 3",
   "language": "python",
   "name": "python3"
  },
  "language_info": {
   "codemirror_mode": {
    "name": "ipython",
    "version": 3
   },
   "file_extension": ".py",
   "mimetype": "text/x-python",
   "name": "python",
   "nbconvert_exporter": "python",
   "pygments_lexer": "ipython3",
   "version": "3.10.11"
  }
 },
 "nbformat": 4,
 "nbformat_minor": 2
}
