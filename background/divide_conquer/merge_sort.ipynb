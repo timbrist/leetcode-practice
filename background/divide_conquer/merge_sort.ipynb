{
 "cells": [
  {
   "cell_type": "markdown",
   "metadata": {},
   "source": [
    "### Merge Sort (Divide-and-Conquer)\n",
    "\n",
    "Set unsorted array $A = [a_0, a_1, ..., a_n]$  \n",
    "Find function $M(A) = [a_0, a_1,...,a_n]$ where $a_0 < a_1 < ... < a_n$   \n"
   ]
  },
  {
   "cell_type": "markdown",
   "metadata": {},
   "source": [
    "## Analysis\n",
    "\n",
    "[Lemma 1.1](https://jeffe.cs.illinois.edu/teaching/algorithms/). Merge correctly merges the subarrays A[1 .. m] and A[m + 1 .. n], assuming those subarrays are sorted in the input.   --- page 27, Chapter resursion.\n",
    "\n",
    "\n",
    "### Conquer\n",
    "Assume the subarrays $L = [a_0, a_1, ..., a_m], R = [a_{m+1}, a_{m+2}, ...,a_n]$ are sorted.  \n",
    "Find a function $g(L,R) \\mapsto B_{sorted}$\n",
    "\n",
    "$\n",
    "\\forall (i \\in \\N, i < |L|) \\land (j \\in \\N, j<|R|) \\\\\n",
    "(B[k], i, j) = \\begin{cases}\n",
    "    (L[i], i\\leftarrow i+1, j)&L[i] < R[j] \\\\\n",
    "    (R[j],i, j\\leftarrow j+1)&else \\\\\n",
    "\\end{cases}\n",
    "$"
   ]
  },
  {
   "cell_type": "markdown",
   "metadata": {},
   "source": [
    "#### Analysis\n",
    "\n",
    "##### Divide\n",
    "Divide array A into half, $A_{left} = [a_0, a_1, ..., a_m], A_{right} = [a_{m+1}, a_{m+2}, ...,a_n]$ where $ m = \\frac{n}{2}$\n",
    "##### Conquer\n",
    "Set $n_L$ is the length of $A_{left}$  \n",
    "Set $n_R$ is the length of $A_{right}$  \n",
    "\n",
    "\n",
    "$\\forall \\{i<n_L  \\land j<n_R\\}$:\n",
    "$\\begin{cases} \n",
    "      A_k \\leftarrow L_i, i \\leftarrow i+1 &  L_i <= R_j \\\\\n",
    "      A_k \\leftarrow R_j, j \\leftarrow j+1 &  otherwise \\\\\n",
    "\\end{cases}$,\n",
    "$k \\leftarrow k+1$  \n",
    "for each index i from 0 to $n_L$ and index j from 0 to $n_R$, if the $i^{th}$ element of the left array L less than the $j^{th}$ element of the right array R, then the $k^{th}$ element of the target array A assign value of the element otherwise assign value of the element of array R."
   ]
  },
  {
   "cell_type": "markdown",
   "metadata": {},
   "source": [
    "## Algorithm\n",
    "$\n",
    "f(X):= \\\\\n",
    "\\quad |X| >1 \\rightarrow \\\\\n",
    "\\quad\\quad m \\leftarrow \\lfloor\\frac{|X|}{2}\\rfloor \\\\\n",
    "\\quad\\quad L \\leftarrow X[0:m],\\quad R \\leftarrow X[m:|X|]\\\\\n",
    "\\quad\\quad f(L),\\quad f(R) \\\\ \n",
    "\\quad\\quad i=j=k=0 \\\\\n",
    "\\quad\\quad \\forall (i<|L|)\\land(j<|R|) \\rightarrow \\\\\n",
    "\\quad\\quad\\quad L[i] \\leq R[j] \\rightarrow (X[k] \\leftarrow L[i], i\\leftarrow i+1) \\\\\n",
    "\\quad\\quad\\quad L[i] > R[j] \\rightarrow (X[k] \\leftarrow R[j], j\\leftarrow j+1) \\\\\n",
    "\\quad\\quad\\quad k\\leftarrow k+1 \\\\ \n",
    "\\quad\\quad \\forall (i<|L|) \\rightarrow (X[k]\\leftarrow L[i], i\\leftarrow i+1,k\\leftarrow k+1)\\\\\n",
    "\\quad\\quad \\forall (j<|R|) \\rightarrow (X[k]\\leftarrow R[j], j\\leftarrow j+1,k\\leftarrow k+1)\\\\\\\\\n",
    "$\n"
   ]
  },
  {
   "cell_type": "code",
   "execution_count": 4,
   "metadata": {},
   "outputs": [
    {
     "name": "stdout",
     "output_type": "stream",
     "text": [
      "Given array is [12, 11, 13, 5, 6, 7]\n",
      "\n",
      "Sorted array is  [5, 5, 7, 11, 11, 12]\n"
     ]
    }
   ],
   "source": [
    "def f(X):\n",
    "    if len(X) > 1:\n",
    "        m = len(X)//2\n",
    "        L = X[:m]\n",
    "        R = X[m:]\n",
    "        f(L), f(R)\n",
    "        i=j=k=0\n",
    "        while i<len(L) and j<len(R):\n",
    "            if L[i] <= R[j]:    \n",
    "                X[k]=L[i]\n",
    "                i+=1\n",
    "            else:\n",
    "                X[k]=R[j]\n",
    "                j+=1\n",
    "            k+=1\n",
    "        while i<len(L):\n",
    "            X[k] = L[i]\n",
    "            i+=1\n",
    "            k+=1\n",
    "        while j<len(L):\n",
    "            X[k] = L[j]\n",
    "            j+=1\n",
    "            k+=1\n",
    "arr = [12, 11, 13, 5, 6, 7]\n",
    "print(\"Given array is\",arr)\n",
    "f(arr)\n",
    "print(\"\\nSorted array is \", arr)"
   ]
  }
 ],
 "metadata": {
  "kernelspec": {
   "display_name": "Python 3",
   "language": "python",
   "name": "python3"
  },
  "language_info": {
   "codemirror_mode": {
    "name": "ipython",
    "version": 3
   },
   "file_extension": ".py",
   "mimetype": "text/x-python",
   "name": "python",
   "nbconvert_exporter": "python",
   "pygments_lexer": "ipython3",
   "version": "3.10.11"
  }
 },
 "nbformat": 4,
 "nbformat_minor": 2
}
