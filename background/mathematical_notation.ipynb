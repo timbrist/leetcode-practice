{
 "cells": [
  {
   "cell_type": "markdown",
   "metadata": {},
   "source": [
    "# Mathematical notation for algorithm"
   ]
  },
  {
   "cell_type": "markdown",
   "metadata": {},
   "source": [
    "## Assignment\n",
    "\n",
    "$a \\leftarrow 1$ means assign 1 to valuable a  \n",
    "$A_i \\leftarrow x$ means the $i^{th}$ element of Array A assign new value x."
   ]
  },
  {
   "cell_type": "markdown",
   "metadata": {},
   "source": [
    "## condiction\n",
    "\n",
    "and: $C = A \\land B $: C is true only A and B both true   \n",
    "or : $C = A \\lor  B $: C is true if one of the A or B is true  \n",
    "\n",
    "### if statement  \n",
    "implies : $A \\implies B$ means if A is true then B\n",
    "### if-else statement\n",
    "$\n",
    "C = \\begin{cases}\n",
    "A&A>B\\\\ \n",
    "B&otherwise\n",
    "\\end{cases}\n",
    "$: C is equals A only if A>B is true, otherwise equals B  \n"
   ]
  },
  {
   "cell_type": "markdown",
   "metadata": {},
   "source": [
    "## iteration\n",
    "\n",
    "[loop](https://math.stackexchange.com/questions/2213879/what-is-the-correct-math-notation-for-for-all-i-1-to-n): $\\forall i \\in \\{1,2,...,n\\}$ or $\\forall 1\\leq i \\leq n$: means for all i from 1 to n  \n",
    "\n",
    "### example\n",
    "\n",
    "$\\forall i\\in \\N, i\\leftarrow i*2 $"
   ]
  },
  {
   "cell_type": "markdown",
   "metadata": {},
   "source": [
    "\n",
    "\n",
    "\n",
    "$\\frown$ [concatenating](https://math.stackexchange.com/questions/298648/is-there-a-common-symbol-for-concatenating-two-finite-sequences0) : \n",
    "$V=[v_1,v_2], U = [u_1,u_2], (V^\\frown U) = [v_1,v_2,u_1,u_2]$ means the concatenation of them \n",
    "\n",
    "$\\forall$ for all: $\\forall {i \\in \\N, i<n}: v_i = 0 $ means for $i = 0, 1,...,n,  v_i = 0$ "
   ]
  },
  {
   "cell_type": "markdown",
   "metadata": {},
   "source": [
    "## function \n",
    "\n",
    "[mapsto symbols](https://math.stackexchange.com/questions/1751187/what-does-the-function-f-x-%E2%86%A6-y-mean):\n",
    "$f:x \\mapsto x^2 $ or $f(x)=x^2$ means that f is a function which takes in a value x and gives out y .\n",
    "\n",
    "let's at this moment, use curly braces {} for each statement in function  \n",
    "### example\n",
    "\n",
    "$\n",
    "f(x) = \\{ A = \\empty; \\forall x: \\begin{cases}\n",
    "A^\\frown x & x = 5 \\\\\n",
    "A^\\frown 0 & otherwise\n",
    " \\end{cases}\n",
    "\\}\n",
    "$"
   ]
  }
 ],
 "metadata": {
  "language_info": {
   "name": "python"
  }
 },
 "nbformat": 4,
 "nbformat_minor": 2
}
