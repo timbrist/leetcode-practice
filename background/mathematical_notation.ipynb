{
 "cells": [
  {
   "cell_type": "markdown",
   "metadata": {},
   "source": [
    "\n",
    "$\\leftarrow$ assignment: $A_i \\leftarrow x$ means the $i^{th}$ element of Array A assign new value x.\n",
    "\n",
    "$\\frown$ [concatenating](https://math.stackexchange.com/questions/298648/is-there-a-common-symbol-for-concatenating-two-finite-sequences0) : \n",
    "$V=[v_1,v_2], U = [u_1,u_2], (V^\\frown U) = [v_1,v_2,u_1,u_2]$ means the concatenation of them \n",
    "\n",
    "$\\forall$ for all: $\\forall {i \\in \\N, i<n}: v_i = 0 $ means for $i = 0, 1,...,n,  v_i = 0$ "
   ]
  },
  {
   "cell_type": "markdown",
   "metadata": {},
   "source": [
    "## Mathematical logic\n",
    "\n",
    "$\\implies$ implies : $A \\implies B$ means if A is true then B"
   ]
  }
 ],
 "metadata": {
  "language_info": {
   "name": "python"
  }
 },
 "nbformat": 4,
 "nbformat_minor": 2
}
