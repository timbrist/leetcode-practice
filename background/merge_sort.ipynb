{
 "cells": [
  {
   "cell_type": "markdown",
   "metadata": {},
   "source": [
    "### Merge Sort (Divide-and-Conquer)\n",
    "\n",
    "Set unsorted array $A = [a_0, a_1, ..., a_n]$  \n",
    "Find function $M(A) = [a_0, a_1,...,a_n]$ where $a_0 < a_1 < ... < a_n$   \n"
   ]
  },
  {
   "cell_type": "markdown",
   "metadata": {},
   "source": [
    "#### Analysis\n",
    "\n",
    "##### Divide\n",
    "Divide array A into half, $A_{left} = [a_0, a_1, ..., a_m], A_{right} = [a_{m+1}, a_{m+2}, ...,a_n]$ where $ m = \\frac{n}{2}$\n",
    "##### Conquer\n",
    "Set $n_L$ is the length of $A_{left}$  \n",
    "Set $n_R$ is the length of $A_{right}$  \n",
    "\n",
    "\n",
    "$\\forall \\{i<n_L  \\land j<n_R\\}$:\n",
    "$\\begin{cases} \n",
    "      A_k \\leftarrow L_i, i \\leftarrow i+1 &  L_i <= R_j \\\\\n",
    "      A_k \\leftarrow R_j, j \\leftarrow j+1 &  otherwise \\\\\n",
    "\\end{cases}$,\n",
    "$k \\leftarrow k+1$  \n",
    "for each index i from 0 to $n_L$ and index j from 0 to $n_R$, if the $i^{th}$ element of the left array L less than the $j^{th}$ element of the right array R, then the $k^{th}$ element of the target array A assign value of the element otherwise assign value of the element of array R."
   ]
  },
  {
   "cell_type": "code",
   "execution_count": null,
   "metadata": {},
   "outputs": [],
   "source": []
  }
 ],
 "metadata": {
  "language_info": {
   "name": "python"
  }
 },
 "nbformat": 4,
 "nbformat_minor": 2
}
