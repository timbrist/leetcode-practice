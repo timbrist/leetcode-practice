{
 "cells": [
  {
   "cell_type": "markdown",
   "metadata": {},
   "source": [
    "### 1. Two Sum\n",
    "Given an array of integers nums and an integer target, return indices of the two numbers such that they add up to target.\n",
    "\n",
    "You may assume that each input would have exactly one solution, and you may not use the same element twice.\n",
    "\n",
    "You can return the answer in any order.\n",
    "\n",
    "Example 1:\n",
    "\n",
    "Input: nums = [2,7,11,15], target = 9\n",
    "Output: [0,1]\n",
    "Explanation: Because nums[0] + nums[1] == 9, we return [0, 1].\n",
    "Example 2:\n",
    "\n",
    "Input: nums = [3,2,4], target = 6\n",
    "Output: [1,2]\n",
    "Example 3:\n",
    "\n",
    "Input: nums = [3,3], target = 6\n",
    "Output: [0,1]"
   ]
  },
  {
   "cell_type": "markdown",
   "metadata": {},
   "source": [
    "### analysis\n",
    "\n",
    "set $X = [x_1, x_2, ..., x_n] $  \n",
    "Find index i and j where $x_i + x_j = t$\n",
    "\n",
    "#### 1. Brute Force Approach\n",
    "For each $x_i$, iterate through the remaining elements $x_j$ ​ to check if $x_i + x_j = t$\n",
    "\n",
    "#### 2.Hash Table Approach\n",
    "set $S = \\{K,V\\} $ where $K = x_i, V = i$  \n",
    "For i to n:  \n",
    "if $t-x_i$ is not found in $K$ then add $x_i$ to $K$,  \n",
    "else return V and i\n"
   ]
  },
  {
   "cell_type": "code",
   "execution_count": 8,
   "metadata": {},
   "outputs": [],
   "source": [
    "from typing import List\n",
    "class Solution:\n",
    "    def twoSum(self, nums: List[int], target: int) -> List[int]:\n",
    "        for i in range(0, len(nums)):\n",
    "            for j in range(i+1, len(nums)):\n",
    "                if nums[i] + nums[j] == target :\n",
    "                    return [i,j]"
   ]
  },
  {
   "cell_type": "code",
   "execution_count": 25,
   "metadata": {},
   "outputs": [],
   "source": [
    "from typing import List\n",
    "class Solution:\n",
    "    def twoSum(self, nums: List[int], target: int) -> List[int]:\n",
    "        res = {} \n",
    "        for i in range(0,len(nums)):\n",
    "            k = target-nums[i] \n",
    "            print(k)\n",
    "            if k not in res:\n",
    "                res[nums[i]] = i\n",
    "            else:\n",
    "                return [res.get(k), i]"
   ]
  },
  {
   "cell_type": "code",
   "execution_count": 26,
   "metadata": {},
   "outputs": [
    {
     "name": "stdout",
     "output_type": "stream",
     "text": [
      "7\n",
      "2\n",
      "[0, 1]\n",
      "3\n",
      "4\n",
      "2\n",
      "[1, 2]\n"
     ]
    }
   ],
   "source": [
    "# test case 1:\n",
    "nums = [2,7,11,15]\n",
    "target = 9\n",
    "s = Solution()\n",
    "print(s.twoSum(nums,target))\n",
    "\n",
    "# test case 2:\n",
    "nums = [3,2,4]\n",
    "target = 6\n",
    "s = Solution()\n",
    "print(s.twoSum(nums,target))"
   ]
  }
 ],
 "metadata": {
  "kernelspec": {
   "display_name": "Python 3",
   "language": "python",
   "name": "python3"
  },
  "language_info": {
   "codemirror_mode": {
    "name": "ipython",
    "version": 3
   },
   "file_extension": ".py",
   "mimetype": "text/x-python",
   "name": "python",
   "nbconvert_exporter": "python",
   "pygments_lexer": "ipython3",
   "version": "3.10.11"
  }
 },
 "nbformat": 4,
 "nbformat_minor": 2
}
