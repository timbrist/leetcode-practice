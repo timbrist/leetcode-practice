{
 "cells": [
  {
   "cell_type": "markdown",
   "metadata": {},
   "source": [
    "### 1. Two Sum\n",
    "Given an array of integers nums and an integer target, return indices of the two numbers such that they add up to target.\n",
    "\n",
    "You may assume that each input would have exactly one solution, and you may not use the same element twice.\n",
    "\n",
    "You can return the answer in any order.\n",
    "\n",
    "Example 1:\n",
    "\n",
    "Input: nums = [2,7,11,15], target = 9\n",
    "Output: [0,1]\n",
    "Explanation: Because nums[0] + nums[1] == 9, we return [0, 1].\n",
    "Example 2:\n",
    "\n",
    "Input: nums = [3,2,4], target = 6\n",
    "Output: [1,2]\n",
    "Example 3:\n",
    "\n",
    "Input: nums = [3,3], target = 6\n",
    "Output: [0,1]"
   ]
  },
  {
   "cell_type": "markdown",
   "metadata": {},
   "source": [
    "### analysis\n",
    "\n",
    "set $X = [x_1, x_2, ..., x_n] $  \n",
    "Find index i and j where $x_i + x_j = t$\n",
    "\n",
    "#### 1. Brute Force Approach\n",
    "For each $x_i$, iterate through the remaining elements $x_j$ ​ to check if $x_i + x_j = t$  \n",
    "$\n",
    "f(X,i,j,t) = \\begin{cases}\n",
    "    f(X,i+1,i+2,t) &   j \\geq len(X)\\\\\n",
    "    [i,j] & x_i = x_j \\\\\n",
    "    f(X,i, j+1, t) & \n",
    "\\end{cases}\n",
    "$  \n"
   ]
  },
  {
   "cell_type": "code",
   "execution_count": 18,
   "metadata": {},
   "outputs": [
    {
     "name": "stdout",
     "output_type": "stream",
     "text": [
      "[0, 1]\n",
      "[1, 2]\n"
     ]
    }
   ],
   "source": [
    "from typing import List\n",
    "class Solution:\n",
    "    def twoSum(self, nums: List[int], target: int) -> List[int]:\n",
    "        return self.f(nums,target)\n",
    "\n",
    "    def f(self, nums, target, i=0, j=1):\n",
    "        # Base case: if j reaches the end of the array, increment i and reset j\n",
    "        if j == len(nums):\n",
    "            return self.f(nums, target, i + 1, i + 2) if i + 1 < len(nums) - 1 else None\n",
    "\n",
    "        # Check if the current pair sums up to the target\n",
    "        if nums[i] + nums[j] == target:\n",
    "            return [i, j]\n",
    "\n",
    "        # Recursive case: move to the next pair\n",
    "        return self.f(nums, target, i, j + 1)\n",
    "# test case 1:\n",
    "nums = [2,7,11,15]\n",
    "target = 9\n",
    "s = Solution()\n",
    "print(s.twoSum(nums,target))\n",
    "\n",
    "# test case 2:\n",
    "nums = [3,2,4]\n",
    "target = 6\n",
    "s = Solution()\n",
    "print(s.twoSum(nums,target))\n"
   ]
  },
  {
   "cell_type": "markdown",
   "metadata": {},
   "source": [
    "#### 2.Hash Table Approach\n",
    "Set $ h = [ \\{k_0:v_0\\}, \\{k_1:v_1\\},...,\\{k_n:v_n\\}] $ called hash map.   \n",
    "$\n",
    "f(X,i,h,t) = \\begin{cases}\n",
    "    [h[t-x_i], i] &   t-x_i \\in h\\\\\n",
    "    \\empty & i \\geq len(X) \\\\\n",
    "    h' = h + \\{X[i]:i\\}, f(X,i+1,h',t) & \n",
    "\\end{cases}\n",
    "$  "
   ]
  },
  {
   "cell_type": "code",
   "execution_count": 16,
   "metadata": {},
   "outputs": [
    {
     "name": "stdout",
     "output_type": "stream",
     "text": [
      "[0, 1]\n",
      "[1, 2]\n"
     ]
    }
   ],
   "source": [
    "from typing import List\n",
    "class Solution:\n",
    "    def f(self, X, i, h, t):\n",
    "        if t-X[i] in h:\n",
    "            return [h[t-X[i]], i]\n",
    "        if i >= len(X):\n",
    "            return []\n",
    "        h[X[i]] = i\n",
    "        return self.f(X,i+1,h,t)\n",
    "    def twoSum(self, nums: List[int], target: int) -> List[int]:\n",
    "        h = {}\n",
    "        i = 0\n",
    "        return self.f(nums,i,h,target)\n",
    "# test case 1:\n",
    "nums = [2,7,11,15]\n",
    "target = 9\n",
    "s = Solution()\n",
    "print(s.twoSum(nums,target))\n",
    "\n",
    "# test case 2:\n",
    "nums = [3,2,4]\n",
    "target = 6\n",
    "s = Solution()\n",
    "print(s.twoSum(nums,target))"
   ]
  },
  {
   "cell_type": "markdown",
   "metadata": {},
   "source": [
    "### Solution in Production (loop):"
   ]
  },
  {
   "cell_type": "code",
   "execution_count": 11,
   "metadata": {},
   "outputs": [],
   "source": [
    "class Solution:\n",
    "    def twoSum2(self, nums: List[int], target: int) -> List[int]:\n",
    "        for i in range(0, len(nums)):\n",
    "            for j in range(i+1, len(nums)):\n",
    "                if nums[i] + nums[j] == target :\n",
    "                    return [i,j]\n",
    "    def twoSum(self, nums: List[int], target: int) -> List[int]:\n",
    "        res = {} \n",
    "        for i in range(0,len(nums)):\n",
    "            k = target-nums[i] \n",
    "            if k not in res:\n",
    "                res[nums[i]] = i\n",
    "            else:\n",
    "                return [res.get(k), i]"
   ]
  },
  {
   "cell_type": "code",
   "execution_count": 12,
   "metadata": {},
   "outputs": [
    {
     "name": "stdout",
     "output_type": "stream",
     "text": [
      "7\n",
      "2\n",
      "[0, 1]\n",
      "3\n",
      "4\n",
      "2\n",
      "[1, 2]\n"
     ]
    }
   ],
   "source": [
    "# test case 1:\n",
    "nums = [2,7,11,15]\n",
    "target = 9\n",
    "s = Solution()\n",
    "print(s.twoSum(nums,target))\n",
    "\n",
    "# test case 2:\n",
    "nums = [3,2,4]\n",
    "target = 6\n",
    "s = Solution()\n",
    "print(s.twoSum(nums,target))"
   ]
  },
  {
   "cell_type": "code",
   "execution_count": 15,
   "metadata": {},
   "outputs": [
    {
     "name": "stdout",
     "output_type": "stream",
     "text": [
      "[0, 1]\n",
      "[1, 2]\n"
     ]
    }
   ],
   "source": [
    "# test case 1:\n",
    "nums = [2,7,11,15]\n",
    "target = 9\n",
    "s = Solution()\n",
    "print(s.twoSum2(nums,target))\n",
    "\n",
    "# test case 2:\n",
    "nums = [3,2,4]\n",
    "target = 6\n",
    "s = Solution()\n",
    "print(s.twoSum2(nums,target))"
   ]
  }
 ],
 "metadata": {
  "kernelspec": {
   "display_name": "Python 3",
   "language": "python",
   "name": "python3"
  },
  "language_info": {
   "codemirror_mode": {
    "name": "ipython",
    "version": 3
   },
   "file_extension": ".py",
   "mimetype": "text/x-python",
   "name": "python",
   "nbconvert_exporter": "python",
   "pygments_lexer": "ipython3",
   "version": "3.10.11"
  }
 },
 "nbformat": 4,
 "nbformat_minor": 2
}
