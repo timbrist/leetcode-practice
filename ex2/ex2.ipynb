{
 "cells": [
  {
   "cell_type": "markdown",
   "metadata": {},
   "source": [
    "### Add Two sum\n",
    "You are given two non-empty linked lists representing two non-negative integers. The digits are stored in reverse order, and each of their nodes contains a single digit. Add the two numbers and return the sum as a linked list.  \n",
    "\n",
    "You may assume the two numbers do not contain any leading zero, except the number 0 itself.  \n",
    "\n",
    "Input: l1 = [2,4,3], l2 = [5,6,4]  \n",
    "Output: [7,0,8]  \n",
    "Explanation: 342 + 465 = 807.  \n",
    "Example 2:  \n",
    "\n",
    "Input: l1 = [0], l2 = [0]  \n",
    "Output: [0]  \n",
    "Example 3:  \n",
    "\n",
    "Input: l1 = [9,9,9,9,9,9,9], l2 = [9,9,9,9]  \n",
    "Output: [8,9,9,9,0,0,0,1]  "
   ]
  },
  {
   "cell_type": "markdown",
   "metadata": {},
   "source": [
    "### Analysis  \n",
    "set $X = [x_1, x_2, ..., x_n] $ and $Y = [y_1, y_2, ..., y_m]$   \n",
    "Find $Z = X+Y$ where $Z = [x_1+y_1, x_2+y_2, ... x_n+y_m] + B$  \n",
    "if $x_i + y_i >= 10$ then $B[i+1] = 1$"
   ]
  },
  {
   "cell_type": "code",
   "execution_count": 14,
   "metadata": {},
   "outputs": [],
   "source": [
    "# Definition for singly-linked list.\n",
    "class ListNode(object):\n",
    "    def __init__(self, val=0, next=None):\n",
    "        self.val = val\n",
    "        self.next = next\n",
    "class Solution(object):\n",
    "    def addTwoNumbers(self, l1, l2):\n",
    "        \"\"\"\n",
    "        :type l1: ListNode\n",
    "        :type l2: ListNode\n",
    "        :rtype: ListNode\n",
    "        \"\"\"\n",
    "        head1 = l1\n",
    "        head2 = l2\n",
    "        c = 0 #carry\n",
    "        Z = []\n",
    "        while  head1 != None or head2 != None:\n",
    "            val1 = 0\n",
    "            val2 = 0\n",
    "            if head1 != None:   val1 = head1.val\n",
    "            if head2 != None:   val2 = head2.val\n",
    "            z = val1 + val2 +c\n",
    "            if z>=10:\n",
    "                Z.append(z%10)\n",
    "                c = 1\n",
    "            else:\n",
    "                Z.append(z)\n",
    "                c = 0\n",
    "            if head1 != None:   head1 = head1.next\n",
    "            if head2 != None:   head2 = head2.next\n",
    "        if c == 1:\n",
    "            Z.append(c)\n",
    "        print(Z)\n",
    "        res = ListNode()\n",
    "        head = res\n",
    "        for i in range(0,len(Z)):\n",
    "            res.val = Z[i]\n",
    "            if i+1!= len(Z):\n",
    "                res.next = ListNode()\n",
    "            else:\n",
    "                res.next = None\n",
    "            res = res.next\n",
    "        return head\n"
   ]
  },
  {
   "cell_type": "code",
   "execution_count": 15,
   "metadata": {},
   "outputs": [
    {
     "name": "stdout",
     "output_type": "stream",
     "text": [
      "[8, 9, 9, 0, 1]\n",
      "8\n",
      "9\n",
      "9\n",
      "0\n",
      "1\n",
      "0\n"
     ]
    }
   ],
   "source": [
    "s = Solution()\n",
    "x4 = ListNode(9,None)\n",
    "x3 = ListNode(9,x4)\n",
    "x2 = ListNode(9,x3)\n",
    "x1 = ListNode(9,x2)\n",
    "\n",
    "y3 = ListNode(9,None)\n",
    "y2 = ListNode(9,y3)\n",
    "y1 = ListNode(9,y2)\n",
    "\n",
    "z = s.addTwoNumbers(x1,y1)\n",
    "while z!= None:\n",
    "    print(z.val)\n",
    "    z = z.next"
   ]
  }
 ],
 "metadata": {
  "kernelspec": {
   "display_name": "Python 3",
   "language": "python",
   "name": "python3"
  },
  "language_info": {
   "codemirror_mode": {
    "name": "ipython",
    "version": 3
   },
   "file_extension": ".py",
   "mimetype": "text/x-python",
   "name": "python",
   "nbconvert_exporter": "python",
   "pygments_lexer": "ipython3",
   "version": "3.10.11"
  }
 },
 "nbformat": 4,
 "nbformat_minor": 2
}
