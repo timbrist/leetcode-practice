{
 "cells": [
  {
   "cell_type": "markdown",
   "metadata": {},
   "source": [
    "Given a string s, find the length of the longest \n",
    "substring\n",
    " without repeating characters.\n",
    "\n",
    " \n",
    "\n",
    "Example 1:\n",
    "\n",
    "Input: s = \"abcabcbb\"\n",
    "Output: 3\n",
    "Explanation: The answer is \"abc\", with the length of 3.\n",
    "Example 2:\n",
    "\n",
    "Input: s = \"bbbbb\"\n",
    "Output: 1\n",
    "Explanation: The answer is \"b\", with the length of 1.\n",
    "Example 3:\n",
    "\n",
    "Input: s = \"pwwkew\"\n",
    "Output: 3\n",
    "Explanation: The answer is \"wke\", with the length of 3.\n",
    "Notice that the answer must be a substring, \"pwke\" is a subsequence and not a substring.\n",
    " "
   ]
  },
  {
   "cell_type": "markdown",
   "metadata": {},
   "source": [
    "### Analysis\n",
    "\n",
    "set $S = [s_1, s_2, ..., s_n]$,   \n",
    "find $max(m)$ in $Sub = [s_1, s_2, ..., s_m]$ where $s_1 \\neq s_2 \\neq ... \\neq s_m$  \n"
   ]
  },
  {
   "cell_type": "code",
   "execution_count": 29,
   "metadata": {},
   "outputs": [],
   "source": [
    "class Solution:\n",
    "    def lengthOfLongestSubstring(self, s: str) -> int:\n",
    "        if len(s) == 1: return 1\n",
    "        m_len = 0\n",
    "        for i in range(0,len(s)):\n",
    "            sub_hash = {s[i]: s[i]}\n",
    "            sub = s[i]\n",
    "            for j in range(i+1, len(s)):\n",
    "                if s[j] not in sub_hash:\n",
    "                    sub = sub+s[j]\n",
    "                    sub_hash[s[j]] = sub\n",
    "                else:\n",
    "                    break\n",
    "            if m_len < len(sub):\n",
    "                m_len = len(sub)\n",
    "        return m_len"
   ]
  },
  {
   "cell_type": "code",
   "execution_count": 32,
   "metadata": {},
   "outputs": [
    {
     "name": "stdout",
     "output_type": "stream",
     "text": [
      "2\n",
      "{'a': 'a', 'u': 'au'}\n",
      "2\n",
      "{'u': 'u'}\n",
      "2\n"
     ]
    }
   ],
   "source": [
    "s = Solution()\n",
    "# print(s.lengthOfLongestSubstring(\"abcabcbb\"))\n",
    "# print(s.lengthOfLongestSubstring(\"bbbbbb\"))\n",
    "# print(s.lengthOfLongestSubstring(\"pwwkew\"))\n",
    "print(s.lengthOfLongestSubstring(\"au\"))\n"
   ]
  },
  {
   "cell_type": "code",
   "execution_count": 28,
   "metadata": {},
   "outputs": [
    {
     "name": "stdout",
     "output_type": "stream",
     "text": [
      "1\n"
     ]
    }
   ],
   "source": [
    "s = 'b'\n",
    "print(len(s))"
   ]
  }
 ],
 "metadata": {
  "kernelspec": {
   "display_name": "Python 3",
   "language": "python",
   "name": "python3"
  },
  "language_info": {
   "codemirror_mode": {
    "name": "ipython",
    "version": 3
   },
   "file_extension": ".py",
   "mimetype": "text/x-python",
   "name": "python",
   "nbconvert_exporter": "python",
   "pygments_lexer": "ipython3",
   "version": "3.10.0"
  }
 },
 "nbformat": 4,
 "nbformat_minor": 2
}
