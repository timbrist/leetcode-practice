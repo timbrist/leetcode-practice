{
 "cells": [
  {
   "cell_type": "markdown",
   "metadata": {},
   "source": [
    "\n",
    "#### background \n",
    "Set $X = [x_0, x_1,...x_n],\\quad$ where $x_0<x_1<...<x_n$  \n",
    "$ Y = [y_0, y_1,...y_m],\\quad$ where $y_0<y_1<...<y_m$  \n",
    "Find the median of the combined sorted array formed by merging X and Y.  \n",
    "\n",
    "#### analysis\n",
    "Set $ X[s:i-1] = [x_0, x_1, ..., x_{i-1}],X[i:e] = [x_{i}, x_{i+1}, ... x_n]$ where $s = 0, e = n, i = \\frac{s+e}{2};$  \n",
    "Set $Y[s:j-1] = [y_0, y_1, ..., y_{j-1}],Y[j:e]= [y_{j}, y_{j+1}, ... y_m]$  where $j =\\frac{m+n+1}{2} - i; $   \n",
    "\n",
    "$\n",
    "f(X[s:e],Y) = \\begin{cases} \n",
    "      \\begin{cases}       \n",
    "            \\frac{max(X[i-1], Y[j-1]) + min(X[i],Y[j])}{2}   & (n+m)\\%2 = 0 \\\\\n",
    "            max(X[i-1], Y[j-1]) & otherwise \\\\ \n",
    "      \\end{cases}        & X[i-1]\\leq Y[j] \\&\\& Y[j-1]\\leq X[i]\\\\\n",
    "      f(X[s:i-1],Y) & X[i-1] > Y[j]\\\\\n",
    "      f(X[i+1:e],Y) & otherwise\\\\\n",
    "\\end{cases}\n",
    "$\n",
    "\n",
    "#### example\n",
    "Set $X = [1,2,3,4], Y=[2,4,6,8,10]$ output should be $median = 4$  \n",
    "first loop:  \n",
    "$i = \\frac{m+n}{2} = 2 \\rightarrow X[i-1] = 2, X[i] = 3 $  \n",
    "$j = \\frac{m+n+1}{2} - i = 3 \\rightarrow Y[j-1] = 6, Y[j] = 8 $  \n",
    "$X[i-1]\\leq Y[j] \\rightarrow 2 \\leq 8 \\checkmark$  \n",
    "$Y[j-1]\\leq X[i] \\rightarrow 6 \\leq 3 $   \n",
    "  \n",
    "second loop:  \n",
    "$ i = i+1, X[i-1] = 3, X[i] = 4$  \n",
    "$j = \\frac{m+n+1}{2} - i = 2 \\rightarrow Y[j-1] = 4, Y[j] = 6 $  \n",
    "$X[i-1]\\leq Y[j] \\rightarrow 3 \\leq 6 \\checkmark$  \n",
    "$Y[j-1]\\leq X[i] \\rightarrow 4 \\leq 4 \\checkmark$   \n",
    "return $max(X[i-1], Y[j-1]) = max(3,4) \\rightarrow 4$\n"
   ]
  },
  {
   "cell_type": "code",
   "execution_count": 6,
   "metadata": {},
   "outputs": [],
   "source": [
    "from typing import List\n",
    "class Solution:\n",
    "    def findMedianSortedArrays(self, nums1: List[int], nums2: List[int]) -> float:\n",
    "        n,m = len(nums1), len(nums2)\n",
    "        s,e = 0, n\n",
    "        while s < e:\n",
    "            i = (s + e) / 2\n",
    "            j = ((m+n+1)/2) - i\n",
    "\n",
    "            max_left_x = float('-inf') if i == 0 else nums1[i-1]\n",
    "            min_right_x =  float('inf') if i == m else nums1[i]\n",
    "\n",
    "            max_left_y = float('-inf') if i == 0 else nums2[i-1]\n",
    "            min_right_y =  float('inf') if i == m else nums2[i]\n",
    "\n",
    "            if max_left_x <= min_right_y and max_left_y <= min_right_x:\n",
    "                if (m+n) % 2 == 0:\n",
    "                    return (max(max_left_x, max_left_y) + min(min_right_x, min_right_y)) / 2\n",
    "                else:\n",
    "                    return max(max_left_x, max_left_y)\n",
    "            elif max_left_x > min_right_y:\n",
    "                e = i - 1\n",
    "            else:\n",
    "                s = i + 1\n",
    "        return -1 # error "
   ]
  },
  {
   "cell_type": "code",
   "execution_count": 7,
   "metadata": {},
   "outputs": [
    {
     "ename": "TypeError",
     "evalue": "list indices must be integers or slices, not float",
     "output_type": "error",
     "traceback": [
      "\u001b[1;31m---------------------------------------------------------------------------\u001b[0m",
      "\u001b[1;31mTypeError\u001b[0m                                 Traceback (most recent call last)",
      "Cell \u001b[1;32mIn[7], line 4\u001b[0m\n\u001b[0;32m      2\u001b[0m nums1 \u001b[38;5;241m=\u001b[39m [\u001b[38;5;241m1\u001b[39m,\u001b[38;5;241m2\u001b[39m]\n\u001b[0;32m      3\u001b[0m nums2 \u001b[38;5;241m=\u001b[39m [\u001b[38;5;241m3\u001b[39m,\u001b[38;5;241m4\u001b[39m]\n\u001b[1;32m----> 4\u001b[0m \u001b[38;5;28mprint\u001b[39m(\u001b[43ms\u001b[49m\u001b[38;5;241;43m.\u001b[39;49m\u001b[43mfindMedianSortedArrays\u001b[49m\u001b[43m(\u001b[49m\u001b[43mnums1\u001b[49m\u001b[43m,\u001b[49m\u001b[43m \u001b[49m\u001b[43mnums2\u001b[49m\u001b[43m)\u001b[49m)\n",
      "Cell \u001b[1;32mIn[6], line 10\u001b[0m, in \u001b[0;36mSolution.findMedianSortedArrays\u001b[1;34m(self, nums1, nums2)\u001b[0m\n\u001b[0;32m      7\u001b[0m i \u001b[38;5;241m=\u001b[39m (s \u001b[38;5;241m+\u001b[39m e) \u001b[38;5;241m/\u001b[39m \u001b[38;5;241m2\u001b[39m\n\u001b[0;32m      8\u001b[0m j \u001b[38;5;241m=\u001b[39m ((m\u001b[38;5;241m+\u001b[39mn\u001b[38;5;241m+\u001b[39m\u001b[38;5;241m1\u001b[39m)\u001b[38;5;241m/\u001b[39m\u001b[38;5;241m2\u001b[39m) \u001b[38;5;241m-\u001b[39m i\n\u001b[1;32m---> 10\u001b[0m max_left_x \u001b[38;5;241m=\u001b[39m \u001b[38;5;28mfloat\u001b[39m(\u001b[38;5;124m'\u001b[39m\u001b[38;5;124m-inf\u001b[39m\u001b[38;5;124m'\u001b[39m) \u001b[38;5;28;01mif\u001b[39;00m i \u001b[38;5;241m==\u001b[39m \u001b[38;5;241m0\u001b[39m \u001b[38;5;28;01melse\u001b[39;00m \u001b[43mnums1\u001b[49m\u001b[43m[\u001b[49m\u001b[43mi\u001b[49m\u001b[38;5;241;43m-\u001b[39;49m\u001b[38;5;241;43m1\u001b[39;49m\u001b[43m]\u001b[49m\n\u001b[0;32m     11\u001b[0m min_right_x \u001b[38;5;241m=\u001b[39m  \u001b[38;5;28mfloat\u001b[39m(\u001b[38;5;124m'\u001b[39m\u001b[38;5;124minf\u001b[39m\u001b[38;5;124m'\u001b[39m) \u001b[38;5;28;01mif\u001b[39;00m i \u001b[38;5;241m==\u001b[39m m \u001b[38;5;28;01melse\u001b[39;00m nums1[i]\n\u001b[0;32m     13\u001b[0m max_left_y \u001b[38;5;241m=\u001b[39m \u001b[38;5;28mfloat\u001b[39m(\u001b[38;5;124m'\u001b[39m\u001b[38;5;124m-inf\u001b[39m\u001b[38;5;124m'\u001b[39m) \u001b[38;5;28;01mif\u001b[39;00m i \u001b[38;5;241m==\u001b[39m \u001b[38;5;241m0\u001b[39m \u001b[38;5;28;01melse\u001b[39;00m nums2[i\u001b[38;5;241m-\u001b[39m\u001b[38;5;241m1\u001b[39m]\n",
      "\u001b[1;31mTypeError\u001b[0m: list indices must be integers or slices, not float"
     ]
    }
   ],
   "source": [
    "s = Solution()\n",
    "nums1 = [1,2]\n",
    "nums2 = [3,4]\n",
    "print(s.findMedianSortedArrays(nums1, nums2))"
   ]
  }
 ],
 "metadata": {
  "kernelspec": {
   "display_name": "Python 3",
   "language": "python",
   "name": "python3"
  },
  "language_info": {
   "codemirror_mode": {
    "name": "ipython",
    "version": 3
   },
   "file_extension": ".py",
   "mimetype": "text/x-python",
   "name": "python",
   "nbconvert_exporter": "python",
   "pygments_lexer": "ipython3",
   "version": "3.10.0"
  }
 },
 "nbformat": 4,
 "nbformat_minor": 2
}
