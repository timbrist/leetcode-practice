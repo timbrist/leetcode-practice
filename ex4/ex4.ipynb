{
 "cells": [
  {
   "cell_type": "markdown",
   "metadata": {},
   "source": [
    "\n",
    "#### background \n",
    "Set $X = [x_0, x_1,...x_n],\\quad$ where $x_0<x_1<...<x_n$  \n",
    "$ Y = [y_0, y_1,...y_m],\\quad$ where $y_0<y_1<...<y_m$  \n",
    "Find the median of the combined sorted array formed by merging X and Y.  \n",
    "\n",
    "#### analysis\n",
    "Set $ X[s:i-1] = [x_0, x_1, ..., x_{i-1}],X[i:e] = [x_{i}, x_{i+1}, ... x_n]$ where $s = 0, e = n, i = \\frac{s+e}{2};$  \n",
    "Set $Y[s:j-1] = [y_0, y_1, ..., y_{j-1}],Y[j:e]= [y_{j}, y_{j+1}, ... y_m]$  where $j =\\frac{m+n+1}{2} - i; $   \n",
    "\n",
    "$\n",
    "f(X[s:e],Y) = \\begin{cases} \n",
    "      \\begin{cases}       \n",
    "            \\frac{max(X[i-1], Y[j-1]) + min(X[i],Y[j])}{2}   & (n+m)\\%2 = 0 \\\\\n",
    "            max(X[i-1], Y[j-1]) & otherwise \\\\ \n",
    "      \\end{cases}        & X[i-1]\\leq Y[j] \\&\\& Y[j-1]\\leq X[i]\\\\\n",
    "      f(X[s:i-1],Y) & X[i-1] > Y[j]\\\\\n",
    "      f(X[i+1:e],Y) & otherwise\\\\\n",
    "\\end{cases}\n",
    "$\n",
    "\n",
    "#### example\n",
    "Set $X = [1,2,3,4], Y=[2,4,6,8,10]$ output should be $median = 4$  \n",
    "first loop:  \n",
    "$i = \\frac{m+n}{2} = 2 \\rightarrow X[i-1] = 2, X[i] = 3 $  \n",
    "$j = \\frac{m+n+1}{2} - i = 3 \\rightarrow Y[j-1] = 6, Y[j] = 8 $  \n",
    "$X[i-1]\\leq Y[j] \\rightarrow 2 \\leq 8 \\checkmark$  \n",
    "$Y[j-1]\\leq X[i] \\rightarrow 6 \\leq 3 $   \n",
    "  \n",
    "second loop:  \n",
    "$ i = i+1, X[i-1] = 3, X[i] = 4$  \n",
    "$j = \\frac{m+n+1}{2} - i = 2 \\rightarrow Y[j-1] = 4, Y[j] = 6 $  \n",
    "$X[i-1]\\leq Y[j] \\rightarrow 3 \\leq 6 \\checkmark$  \n",
    "$Y[j-1]\\leq X[i] \\rightarrow 4 \\leq 4 \\checkmark$   \n",
    "return $max(X[i-1], Y[j-1]) = max(3,4) \\rightarrow 4$\n"
   ]
  },
  {
   "cell_type": "code",
   "execution_count": 40,
   "metadata": {},
   "outputs": [],
   "source": [
    "from typing import List\n",
    "class Solution:\n",
    "    def findMedianSortedArrays(self, nums1, nums2):\n",
    "        n,m = len(nums1), len(nums2)\n",
    "        if n>m: return self.findMedianSortedArrays(nums2, nums1)\n",
    "        s,e = 0, n\n",
    "        while s <= e:\n",
    "            i = (s + e) // 2\n",
    "            j = ((m+n+1)//2) - i\n",
    "\n",
    "            x_left = nums1[i-1]  if i-1 >= 0 else float('-inf') \n",
    "            x_right =  nums1[i]  if i < n else float('inf')\n",
    "\n",
    "            y_left = nums2[j-1] if j-1 >= 0 else  float('-inf') \n",
    "            y_right =  nums2[j] if j < m else float('inf') \n",
    "\n",
    "            if x_left <= y_right and y_left <= x_right:\n",
    "                if (m+n) % 2 == 0:\n",
    "                    return (max(x_left, y_left) + min(x_right, y_right)) / 2\n",
    "                else:\n",
    "                    return max(x_left, y_left)\n",
    "            elif x_left > y_right:\n",
    "                e = i - 1\n",
    "            else:\n",
    "                s = i + 1\n",
    "        return -1 # error "
   ]
  },
  {
   "cell_type": "code",
   "execution_count": 41,
   "metadata": {},
   "outputs": [
    {
     "name": "stdout",
     "output_type": "stream",
     "text": [
      "2\n"
     ]
    }
   ],
   "source": [
    "s = Solution()\n",
    "nums1 = [1,3]\n",
    "nums2 = [2]\n",
    "print(s.findMedianSortedArrays(nums1, nums2))"
   ]
  },
  {
   "cell_type": "code",
   "execution_count": 5,
   "metadata": {},
   "outputs": [
    {
     "name": "stdout",
     "output_type": "stream",
     "text": [
      "-inf\n"
     ]
    }
   ],
   "source": [
    "max_left_x = float('-inf') if 0 == 0 else 4\n",
    "print(max_left_x)"
   ]
  }
 ],
 "metadata": {
  "kernelspec": {
   "display_name": "Python 3",
   "language": "python",
   "name": "python3"
  },
  "language_info": {
   "codemirror_mode": {
    "name": "ipython",
    "version": 3
   },
   "file_extension": ".py",
   "mimetype": "text/x-python",
   "name": "python",
   "nbconvert_exporter": "python",
   "pygments_lexer": "ipython3",
   "version": "3.10.11"
  }
 },
 "nbformat": 4,
 "nbformat_minor": 2
}
