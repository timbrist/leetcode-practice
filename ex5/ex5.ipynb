{
 "cells": [
  {
   "cell_type": "markdown",
   "metadata": {},
   "source": [
    "Given a string s, return the longest \n",
    "palindromic\n",
    " \n",
    "substring\n",
    " in s.\n",
    "\n",
    "Example 1:\n",
    "\n",
    "Input: s = \"babad\"\n",
    "Output: \"bab\"\n",
    "Explanation: \"aba\" is also a valid answer.\n",
    "Example 2:\n",
    "\n",
    "Input: s = \"cbbd\"\n",
    "Output: \"bb\""
   ]
  },
  {
   "cell_type": "code",
   "execution_count": 12,
   "metadata": {},
   "outputs": [],
   "source": [
    "class Solution:\n",
    "    def longestPalindrome(self, s: str) -> str:\n",
    "        if len(s) == 1: return 1\n",
    "        res = []\n",
    "        for i in range(0,len(s)):\n",
    "            sub_hash = {s[i]: s[i]}\n",
    "            sub = s[i]\n",
    "            for j in range(i+1, len(s)):\n",
    "                if s[j] not in sub_hash:\n",
    "                    sub = sub+s[j]\n",
    "                    sub_hash[s[j]] = sub\n",
    "                elif s[j] == sub[0]:\n",
    "                    sub = sub+s[j]\n",
    "                    sub_hash[s[j]] = sub\n",
    "                    break\n",
    "                else:\n",
    "                    sub = sub+\"0\"\n",
    "                    break\n",
    "            res.append(sub)\n",
    "        return res"
   ]
  },
  {
   "cell_type": "code",
   "execution_count": 13,
   "metadata": {},
   "outputs": [
    {
     "name": "stdout",
     "output_type": "stream",
     "text": [
      "['bab', 'aba', 'bad', 'ad', 'd']\n",
      "['cb', 'bb', 'bd', 'd']\n"
     ]
    }
   ],
   "source": [
    "s = Solution()\n",
    "print(s.longestPalindrome(\"babad\"))\n",
    "# print(s.longestPalindrome(\"bbbbbb\"))\n",
    "print(s.longestPalindrome(\"cbbd\"))\n",
    "# print(s.longestPalindrome(\"au\"))"
   ]
  }
 ],
 "metadata": {
  "kernelspec": {
   "display_name": "Python 3",
   "language": "python",
   "name": "python3"
  },
  "language_info": {
   "codemirror_mode": {
    "name": "ipython",
    "version": 3
   },
   "file_extension": ".py",
   "mimetype": "text/x-python",
   "name": "python",
   "nbconvert_exporter": "python",
   "pygments_lexer": "ipython3",
   "version": "3.10.11"
  }
 },
 "nbformat": 4,
 "nbformat_minor": 2
}
