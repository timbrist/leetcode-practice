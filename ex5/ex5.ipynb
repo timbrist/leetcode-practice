{
 "cells": [
  {
   "cell_type": "markdown",
   "metadata": {},
   "source": [
    "Given a string s, return the longest \n",
    "palindromic\n",
    " \n",
    "substring\n",
    " in s.\n",
    "\n",
    "Example 1:\n",
    "\n",
    "Input: s = \"babad\"\n",
    "Output: \"bab\"\n",
    "Explanation: \"aba\" is also a valid answer.\n",
    "Example 2:\n",
    "\n",
    "Input: s = \"cbbd\"\n",
    "Output: \"bb\""
   ]
  },
  {
   "cell_type": "markdown",
   "metadata": {},
   "source": []
  },
  {
   "cell_type": "code",
   "execution_count": 84,
   "metadata": {},
   "outputs": [],
   "source": [
    "class Solution:\n",
    "    def isPalindrome(self,s:str)->bool:\n",
    "        head = 0\n",
    "        tail = len(s)\n",
    "        left, right = 0,0\n",
    "        if (head + tail) % 2 == 1:\n",
    "            left = (head + tail)//2  - 1\n",
    "            right = (head + tail)//2  + 1\n",
    "        else:\n",
    "            left = (head + tail)//2 - 1\n",
    "            right = (head + tail)//2\n",
    "        while left >= head and right < tail:\n",
    "            if s[left] != s[right]:\n",
    "                return False\n",
    "            left = left-1\n",
    "            right = right+1\n",
    "        return True\n",
    "    def longestPalindrome(self, s: str) -> str:\n",
    "        res = {} \n",
    "        m_len = 0\n",
    "        for i in range(len(s)): \n",
    "            for j in range(i + 1, len(s) + 1):\n",
    "                if self.isPalindrome(s[i:j]):\n",
    "                    sub_len = len(s[i:j])\n",
    "                    res[sub_len] = s[i:j]\n",
    "                    if m_len < sub_len:\n",
    "                        m_len = sub_len\n",
    "        return res[m_len]"
   ]
  },
  {
   "cell_type": "code",
   "execution_count": 82,
   "metadata": {},
   "outputs": [
    {
     "name": "stdout",
     "output_type": "stream",
     "text": [
      "True\n",
      "True\n",
      "False\n",
      "False\n"
     ]
    }
   ],
   "source": [
    "def isPalindrome(s:str)->bool:\n",
    "    head = 0\n",
    "    tail = len(s)\n",
    "    left, right = 0,0\n",
    "    if (head + tail) % 2 == 1:\n",
    "        left = (head + tail)//2  - 1\n",
    "        right = (head + tail)//2  + 1\n",
    "    else:\n",
    "        left = (head + tail)//2 - 1\n",
    "        right = (head + tail)//2\n",
    "    while left >= head and right < tail:\n",
    "        if s[left] != s[right]:\n",
    "            return False\n",
    "        left = left-1\n",
    "        right = right+1\n",
    "    return True\n",
    "\n",
    "a = \"abccba\"\n",
    "b = \"aabaa\"\n",
    "c = \"abcercba\"\n",
    "d = \"adceecba\"\n",
    "print(isPalindrome(a))\n",
    "print(isPalindrome(b))\n",
    "print(isPalindrome(c))\n",
    "print(isPalindrome(d))"
   ]
  },
  {
   "cell_type": "code",
   "execution_count": 85,
   "metadata": {},
   "outputs": [
    {
     "name": "stdout",
     "output_type": "stream",
     "text": [
      "{1: 'd', 3: 'aba'}\n",
      "{1: 'b', 2: 'bb', 3: 'bbb', 4: 'bbbb', 5: 'bbbbb', 6: 'bbbbbb'}\n",
      "{1: 'd', 2: 'bb'}\n",
      "{1: 'a', 4: 'abba', 2: 'bb'}\n"
     ]
    }
   ],
   "source": [
    "s = Solution()\n",
    "print(s.longestPalindrome(\"babad\"))\n",
    "print(s.longestPalindrome(\"bbbbbb\"))\n",
    "print(s.longestPalindrome(\"cbbd\"))\n",
    "print(s.longestPalindrome(\"abba\"))"
   ]
  },
  {
   "cell_type": "markdown",
   "metadata": {},
   "source": [
    "### background \n",
    "\n",
    "Set $ S = [s_0, s_1, s_2, ..., s_n], \\exist Sub \\subseteq S, Sub = reverse(Sub)$  \n",
    "Find $ \\max len(Sub) $\n",
    "\n",
    "### analysis\n",
    "\n",
    "$\n",
    "f(s,l,r) = \\begin{cases}\n",
    "    f(s,l-1, r+1) &   \\\\\n",
    "    S[l+1:right]  &s[l] \\neq s[r] \\vee l<0 \\vee r \\geq n\n",
    "\\end{cases}\n",
    "$  \n",
    "  \n",
    "$update(s,i,sub) = \\begin{cases}\n",
    "    sub = f(s,i,i) &   len(f(s,i,i)) > len(sub) \\\\\n",
    "    sub = f(s,i,i+1) &   len(f(s,i,i+1)) > len(sub) \\\\\n",
    "    sub & \n",
    "\\end{cases}$  \n",
    "$\n",
    "g(s,i, sub) = \\begin{cases}\n",
    "    sub  & i \\geq len(s) - 1 \\\\\n",
    "    g(s,i+1, update(sub)) &  \n",
    "\\end{cases}\n",
    "$"
   ]
  },
  {
   "cell_type": "code",
   "execution_count": 69,
   "metadata": {},
   "outputs": [
    {
     "name": "stdout",
     "output_type": "stream",
     "text": [
      "baba\n",
      "bbbbb\n",
      "cbb\n",
      "abb\n"
     ]
    }
   ],
   "source": [
    "class Solution:\n",
    "    def f(self,s,l,r):\n",
    "        if l<0 or r >= len(s) or s[l] != s[r]:\n",
    "            return s[l+1:r]\n",
    "        return self.f(s, l-1, r+1)\n",
    "    def update(self,s, i, sub):\n",
    "        sub = self.f(s,i,i) if len(self.f(s,i,i))>len(sub) else sub\n",
    "        sub = self.f(s,i,i+1) if len(self.f(s,i,i+1))>len(sub) else sub\n",
    "        return sub\n",
    "    def update_max_str(self,s, i, max_str):\n",
    "        odd = self.f(s, i, i)\n",
    "        even = self.f(s, i, i + 1)\n",
    "\n",
    "        if len(odd) > len(max_str):\n",
    "            max_str = odd\n",
    "        if len(even) > len(max_str):\n",
    "            max_str = even\n",
    "        return max_str\n",
    "    def g(self,s,i=0,sub=None):\n",
    "        if sub is None:\n",
    "            sub = s[0] if s else \"\"\n",
    "        if i >= len(s)-1:\n",
    "            return sub\n",
    "        return self.g(s, i+1, self.update_max_str(s, i, sub))\n",
    "    \n",
    "    def longestPalindrome(self, s: str) -> str:\n",
    "        if len(s) <= 1:\n",
    "            return s\n",
    "        sub = s[0]\n",
    "        i = 0\n",
    "        return self.g(s,i,sub)\n",
    "\n",
    "s = Solution()\n",
    "print(s.longestPalindrome(\"babad\"))\n",
    "print(s.longestPalindrome(\"bbbbbb\"))\n",
    "print(s.longestPalindrome(\"cbbd\"))\n",
    "print(s.longestPalindrome(\"abba\"))"
   ]
  },
  {
   "cell_type": "code",
   "execution_count": 72,
   "metadata": {},
   "outputs": [
    {
     "name": "stdout",
     "output_type": "stream",
     "text": [
      "bab\n",
      "bbbbbb\n",
      "bb\n",
      "abba\n"
     ]
    }
   ],
   "source": [
    "class Solution:\n",
    "    # def longestPalindrome(self, s: str) -> str:\n",
    "    #     if len(s) <= 1:\n",
    "    #         return s\n",
    "\n",
    "    #     def expand_from_center(left, right):\n",
    "    #         while left >= 0 and right < len(s) and s[left] == s[right]:\n",
    "    #             left -= 1\n",
    "    #             right += 1\n",
    "    #         return s[left + 1:right]\n",
    "        \n",
    "    #     max_str = s[0]\n",
    "\n",
    "    #     for i in range(len(s) - 1):\n",
    "    #         odd = self.f(s,i, i)\n",
    "    #         even = self.f(s,i, i + 1)\n",
    "\n",
    "    #         if len(odd) > len(max_str):\n",
    "    #             max_str = odd\n",
    "    #         if len(even) > len(max_str):\n",
    "    #             max_str = even\n",
    "\n",
    "    #     return max_str\n",
    "    def update_max_str(self,s, i, max_str):\n",
    "        odd = self.f(s, i, i)\n",
    "        even = self.f(s, i, i + 1)\n",
    "\n",
    "        if len(odd) > len(max_str):\n",
    "            max_str = odd\n",
    "        if len(even) > len(max_str):\n",
    "            max_str = even\n",
    "        return max_str\n",
    "    \n",
    "    def find_max_str(self, s, i=0, max_str=None):\n",
    "        # Initialize max_str with the first character of s if it's not set\n",
    "        if max_str is None:\n",
    "            max_str = s[0] if s else \"\"\n",
    "\n",
    "        # Base case: when the loop's termination condition is met\n",
    "        if i >= len(s) - 1:\n",
    "            return max_str\n",
    "\n",
    "        # Recursive case: calculate odd and even, and update max_str if needed\n",
    "        # odd = self.f(s, i, i)\n",
    "        # even = self.f(s, i, i + 1)\n",
    "\n",
    "        # if len(odd) > len(max_str):\n",
    "        #     max_str = odd\n",
    "        # if len(even) > len(max_str):\n",
    "        #     max_str = even\n",
    "        # max_str = self.update_max_str(s, i,max_str)\n",
    "\n",
    "        # Call the function recursively with incremented i\n",
    "        return self.find_max_str(s, i + 1, self.update_max_str(s, i,max_str))\n",
    "\n",
    "    def f(self,s,left,right):\n",
    "        # print([left,right])\n",
    "        # Base case: when the condition of the while loop is not met\n",
    "        if left < 0 or right >= len(s) or s[left] != s[right]:\n",
    "            return s[left + 1:right]\n",
    "         # Recursive case: move left and right pointers\n",
    "        return self.f(s,left - 1, right + 1)\n",
    "\n",
    "\n",
    "# s = Solution()\n",
    "# print(s.longestPalindrome(\"babad\"))\n",
    "# print(s.longestPalindrome(\"bbbbbb\"))\n",
    "# print(s.longestPalindrome(\"cbbd\"))\n",
    "# print(s.longestPalindrome(\"abba\"))\n",
    "s = Solution()\n",
    "print(s.find_max_str(\"babad\"))\n",
    "print(s.find_max_str(\"bbbbbb\"))\n",
    "print(s.find_max_str(\"cbbd\"))\n",
    "print(s.find_max_str(\"abba\"))"
   ]
  },
  {
   "cell_type": "code",
   "execution_count": 71,
   "metadata": {},
   "outputs": [
    {
     "name": "stdout",
     "output_type": "stream",
     "text": [
      "bab\n",
      "bbbbbb\n",
      "bb\n",
      "abba\n"
     ]
    }
   ],
   "source": [
    "s = Solution()\n",
    "print(s.find_max_str(\"babad\"))\n",
    "print(s.find_max_str(\"bbbbbb\"))\n",
    "print(s.find_max_str(\"cbbd\"))\n",
    "print(s.find_max_str(\"abba\"))"
   ]
  },
  {
   "cell_type": "code",
   "execution_count": 24,
   "metadata": {},
   "outputs": [
    {
     "name": "stdout",
     "output_type": "stream",
     "text": [
      "b\n",
      "bab\n",
      "aba\n",
      "a\n",
      "None\n",
      "ba\n"
     ]
    }
   ],
   "source": [
    "s = Solution()\n",
    "ts = \"babad\"\n",
    "print(s.test(\"babad\"))\n",
    "print(ts[2:4])\n",
    "# print(s.test(\"bbbbbb\"))\n",
    "# print(s.test(\"cbbd\"))\n",
    "# print(s.test(\"abba\"))"
   ]
  },
  {
   "cell_type": "code",
   "execution_count": null,
   "metadata": {},
   "outputs": [],
   "source": [
    "def test():\n",
    "    count = 0\n",
    "    for i in range(0,20):\n",
    "        count = i*2\n",
    "        if count == 22:\n",
    "            return count\n",
    "\n"
   ]
  },
  {
   "cell_type": "code",
   "execution_count": 38,
   "metadata": {},
   "outputs": [
    {
     "name": "stdout",
     "output_type": "stream",
     "text": [
      "32\n"
     ]
    }
   ],
   "source": [
    "print(max(32,7,21))"
   ]
  }
 ],
 "metadata": {
  "kernelspec": {
   "display_name": "Python 3",
   "language": "python",
   "name": "python3"
  },
  "language_info": {
   "codemirror_mode": {
    "name": "ipython",
    "version": 3
   },
   "file_extension": ".py",
   "mimetype": "text/x-python",
   "name": "python",
   "nbconvert_exporter": "python",
   "pygments_lexer": "ipython3",
   "version": "3.10.11"
  }
 },
 "nbformat": 4,
 "nbformat_minor": 2
}
