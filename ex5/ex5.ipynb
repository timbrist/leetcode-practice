{
 "cells": [
  {
   "cell_type": "markdown",
   "metadata": {},
   "source": [
    "Given a string s, return the longest \n",
    "palindromic\n",
    " \n",
    "substring\n",
    " in s.\n",
    "\n",
    "Example 1:\n",
    "\n",
    "Input: s = \"babad\"\n",
    "Output: \"bab\"\n",
    "Explanation: \"aba\" is also a valid answer.\n",
    "Example 2:\n",
    "\n",
    "Input: s = \"cbbd\"\n",
    "Output: \"bb\""
   ]
  },
  {
   "cell_type": "markdown",
   "metadata": {},
   "source": []
  },
  {
   "cell_type": "code",
   "execution_count": 84,
   "metadata": {},
   "outputs": [],
   "source": [
    "class Solution:\n",
    "    def isPalindrome(self,s:str)->bool:\n",
    "        head = 0\n",
    "        tail = len(s)\n",
    "        left, right = 0,0\n",
    "        if (head + tail) % 2 == 1:\n",
    "            left = (head + tail)//2  - 1\n",
    "            right = (head + tail)//2  + 1\n",
    "        else:\n",
    "            left = (head + tail)//2 - 1\n",
    "            right = (head + tail)//2\n",
    "        while left >= head and right < tail:\n",
    "            if s[left] != s[right]:\n",
    "                return False\n",
    "            left = left-1\n",
    "            right = right+1\n",
    "        return True\n",
    "    def longestPalindrome(self, s: str) -> str:\n",
    "        res = {} \n",
    "        m_len = 0\n",
    "        for i in range(len(s)): \n",
    "            for j in range(i + 1, len(s) + 1):\n",
    "                if self.isPalindrome(s[i:j]):\n",
    "                    sub_len = len(s[i:j])\n",
    "                    res[sub_len] = s[i:j]\n",
    "                    if m_len < sub_len:\n",
    "                        m_len = sub_len\n",
    "        return res[m_len]"
   ]
  },
  {
   "cell_type": "code",
   "execution_count": 82,
   "metadata": {},
   "outputs": [
    {
     "name": "stdout",
     "output_type": "stream",
     "text": [
      "True\n",
      "True\n",
      "False\n",
      "False\n"
     ]
    }
   ],
   "source": [
    "def isPalindrome(s:str)->bool:\n",
    "    head = 0\n",
    "    tail = len(s)\n",
    "    left, right = 0,0\n",
    "    if (head + tail) % 2 == 1:\n",
    "        left = (head + tail)//2  - 1\n",
    "        right = (head + tail)//2  + 1\n",
    "    else:\n",
    "        left = (head + tail)//2 - 1\n",
    "        right = (head + tail)//2\n",
    "    while left >= head and right < tail:\n",
    "        if s[left] != s[right]:\n",
    "            return False\n",
    "        left = left-1\n",
    "        right = right+1\n",
    "    return True\n",
    "\n",
    "a = \"abccba\"\n",
    "b = \"aabaa\"\n",
    "c = \"abcercba\"\n",
    "d = \"adceecba\"\n",
    "print(isPalindrome(a))\n",
    "print(isPalindrome(b))\n",
    "print(isPalindrome(c))\n",
    "print(isPalindrome(d))"
   ]
  },
  {
   "cell_type": "code",
   "execution_count": 85,
   "metadata": {},
   "outputs": [
    {
     "name": "stdout",
     "output_type": "stream",
     "text": [
      "{1: 'd', 3: 'aba'}\n",
      "{1: 'b', 2: 'bb', 3: 'bbb', 4: 'bbbb', 5: 'bbbbb', 6: 'bbbbbb'}\n",
      "{1: 'd', 2: 'bb'}\n",
      "{1: 'a', 4: 'abba', 2: 'bb'}\n"
     ]
    }
   ],
   "source": [
    "s = Solution()\n",
    "print(s.longestPalindrome(\"babad\"))\n",
    "print(s.longestPalindrome(\"bbbbbb\"))\n",
    "print(s.longestPalindrome(\"cbbd\"))\n",
    "print(s.longestPalindrome(\"abba\"))"
   ]
  }
 ],
 "metadata": {
  "kernelspec": {
   "display_name": "Python 3",
   "language": "python",
   "name": "python3"
  },
  "language_info": {
   "codemirror_mode": {
    "name": "ipython",
    "version": 3
   },
   "file_extension": ".py",
   "mimetype": "text/x-python",
   "name": "python",
   "nbconvert_exporter": "python",
   "pygments_lexer": "ipython3",
   "version": "3.10.0"
  }
 },
 "nbformat": 4,
 "nbformat_minor": 2
}
