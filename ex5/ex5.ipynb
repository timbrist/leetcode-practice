{
 "cells": [
  {
   "cell_type": "markdown",
   "metadata": {},
   "source": [
    "## Longest Palindromic Substring\n",
    "Given a string s, return the longest palindromic substring in s.  \n",
    "\n",
    "Example 1:  \n",
    "Input: s = \"babad\"  \n",
    "Output: \"bab\"  \n",
    "Explanation: \"aba\" is also a valid answer.  \n",
    "Example 2:  \n",
    "Input: s = \"cbbd\"  \n",
    "Output: \"bb\"  "
   ]
  },
  {
   "cell_type": "markdown",
   "metadata": {},
   "source": [
    "### background \n",
    "\n",
    "Set $ S = [s_0, s_1, s_2, ..., s_n], \\exist Sub \\subseteq S, Sub = reverse(Sub)$  \n",
    "Find $ \\max len(Sub) $\n",
    "\n",
    "### analysis\n",
    "\n",
    "$\n",
    "f(s,l,r) = \\begin{cases}\n",
    "    f(s,l-1, r+1) &   \\\\\n",
    "    S[l+1:right]  &s[l] \\neq s[r] \\vee l<0 \\vee r \\geq n\n",
    "\\end{cases}\n",
    "$  \n",
    "  \n",
    "$update(s,i,sub) = \\begin{cases}\n",
    "    sub = f(s,i,i) &   len(f(s,i,i)) > len(sub) \\\\\n",
    "    sub = f(s,i,i+1) &   len(f(s,i,i+1)) > len(sub) \\\\\n",
    "    sub & \n",
    "\\end{cases}$  \n",
    "$\n",
    "g(s,i, sub) = \\begin{cases}\n",
    "    sub  & i \\geq len(s) - 1 \\\\\n",
    "    g(s,i+1, update(sub)) &  \n",
    "\\end{cases}\n",
    "$"
   ]
  },
  {
   "cell_type": "code",
   "execution_count": 75,
   "metadata": {},
   "outputs": [
    {
     "name": "stdout",
     "output_type": "stream",
     "text": [
      "bab\n",
      "bbbbbb\n",
      "bb\n",
      "abba\n"
     ]
    }
   ],
   "source": [
    "class Solution:\n",
    "    def f(self,s,l,r):\n",
    "        if l<0 or r >= len(s) or s[l] != s[r]:\n",
    "            return s[l+1:r]\n",
    "        return self.f(s, l-1, r+1)\n",
    "    def update(self,s, i, sub):\n",
    "        sub = self.f(s,i,i) if len(self.f(s,i,i))>len(sub) else sub\n",
    "        sub = self.f(s,i,i+1) if len(self.f(s,i,i+1))>len(sub) else sub\n",
    "        return sub\n",
    "    def g(self,s,i=0,sub=None):\n",
    "        if sub is None:\n",
    "            sub = s[0] if s else \"\"\n",
    "        if i >= len(s)-1:\n",
    "            return sub\n",
    "        return self.g(s, i+1, self.update(s, i, sub))\n",
    "    \n",
    "    def longestPalindrome(self, s: str) -> str:\n",
    "        if len(s) <= 1:\n",
    "            return s\n",
    "        sub = s[0]\n",
    "        i = 0\n",
    "        return self.g(s,i,sub)\n",
    "\n",
    "s = Solution()\n",
    "print(s.longestPalindrome(\"babad\"))\n",
    "print(s.longestPalindrome(\"bbbbbb\"))\n",
    "print(s.longestPalindrome(\"cbbd\"))\n",
    "print(s.longestPalindrome(\"abba\"))"
   ]
  }
 ],
 "metadata": {
  "kernelspec": {
   "display_name": "Python 3",
   "language": "python",
   "name": "python3"
  },
  "language_info": {
   "codemirror_mode": {
    "name": "ipython",
    "version": 3
   },
   "file_extension": ".py",
   "mimetype": "text/x-python",
   "name": "python",
   "nbconvert_exporter": "python",
   "pygments_lexer": "ipython3",
   "version": "3.10.11"
  }
 },
 "nbformat": 4,
 "nbformat_minor": 2
}
