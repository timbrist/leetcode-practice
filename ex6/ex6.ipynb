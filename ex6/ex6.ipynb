{
 "cells": [
  {
   "cell_type": "markdown",
   "metadata": {},
   "source": [
    "## 6. Zigzag Conversion\n",
    "\n",
    "Given a string $S = [s_0,s_1, ..., s_n] $ and a number of row $r$  \n",
    "\n",
    "r = 3  \n",
    "$\n",
    "\\begin{bmatrix}\n",
    "s_0 & 0 &   s_4 & 0  &s_8    &\\\\\n",
    "s_1 & s_3 & s_5 & s_7&\\vdots &\\\\\n",
    "s_2 & 0 &   s_6 & 0  &   &\\\\\n",
    "\\end{bmatrix}\n",
    "$  \n",
    "r = 4  \n",
    "$\n",
    "\\begin{bmatrix}\n",
    "s_0 & 0   & 0    & s_6    & 0       &0      &s_{12} &\\\\\n",
    "s_1 & 0   & s_5  & s_7    & 0       &s_{11} &\\vdots &\\\\\n",
    "s_2 & s_4 & 0    & s_8    & s_{10}  &0      & &\\\\\n",
    "s_3 & 0   & 0    & s_{9} & 0       &0      & &\\\\\n",
    "\\end{bmatrix}\n",
    "$  \n",
    "r = 5  \n",
    "$  \n",
    "\\begin{bmatrix}\n",
    "s_0 & 0   & 0    &0   & s_8     & 0       &0      &0      &s_{16}&\\\\\n",
    "s_1 & 0   & 0    &s_7 & s_{9}  & 0       &0      &s_{15} &\\vdots&\\\\\n",
    "s_2 & 0   & s_6  &0   & s_{10}  & 0       &s_{14} &0       &&\\\\\n",
    "s_3 & s_5 & 0    &0   & s_{11}  & s_{13}  &0      &0       &&\\\\\n",
    "s_4 & 0   & 0    &0   & s_{12}  & 0       &0      &0       &&\\\\\n",
    "\\end{bmatrix}\n",
    "$  \n"
   ]
  },
  {
   "cell_type": "markdown",
   "metadata": {},
   "source": [
    "### Analysis\n",
    "Let analysis the general form   \n",
    "r = i    \n",
    "$  \n",
    "\\begin{bmatrix}\n",
    "s_0     & 0            & 0         &0      & s_{2(i-1)}         & 0         & 0          &0      & s_{3(i-1)+(i-1)}         & \\\\\n",
    "s_1     & 0            & \\vdots    &\\vdots & s_{2(i-1)+1}         & 0         & \\vdots     &\\vdots & \\vdots      & \\\\\n",
    "\\vdots  & \\vdots       & s_{i+1}   &0      & \\vdots           & \\vdots    & s_{3i+1}   &0      & \\vdots             & \\\\\n",
    "s_{i-2}  & s_{(i-1)+1}      & 0     &0      & s_{2(i-1)+(i-2)}           & s_{3(i-1)+1}    & 0          &0      & \\vdots             &  \\\\\n",
    "s_{i-1} & 0            & 0         &0      & s_{3(i-1)}     & 0         & 0          &0      &    & \\\\\n",
    "\\end{bmatrix}\n",
    "$    \n",
    "\n",
    "the number of column $m \\leftarrow (n\\mod r)$  \n",
    "the index of 0 row and last column: $2(j-1)(i-1), j \\in m$\n",
    "\n",
    "$s_0, s_{2\\cdot 1(i-1)}, s_{2\\cdot 2(i-1)}, ..., s_{2\\cdot (j-1)(i-1)}, \\\\\n",
    "s_1, s_{(i-1)+i-2} $\n"
   ]
  },
  {
   "cell_type": "markdown",
   "metadata": {},
   "source": [
    "### Algorithm\n",
    "\n",
    "$\\forall s \\in S, \\\\\n",
    "    A[i] \\leftarrow A[i]^\\frown s \\\\\n",
    "    (i=0)\\lor(i=r-1) \\implies (d \\leftarrow -1\\cdot d)\\\\\n",
    "    i \\leftarrow i+(d\\cdot 1)\n",
    "$  \n",
    "concatenating each row to string  \n",
    "$\\forall i \\in \\N, i< r, \\\\\n",
    "S \\leftarrow (\\empty,A[i])$"
   ]
  },
  {
   "cell_type": "code",
   "execution_count": 15,
   "metadata": {},
   "outputs": [
    {
     "name": "stdout",
     "output_type": "stream",
     "text": [
      "0\n",
      "1\n",
      "2\n",
      "3\n",
      "2\n",
      "1\n",
      "0\n",
      "1\n",
      "2\n",
      "3\n",
      "2\n",
      "1\n",
      "0\n",
      "1\n",
      "PINALSIGYAHRPI\n"
     ]
    }
   ],
   "source": [
    "def convert(s: str, numRows: int) -> str:\n",
    "    if numRows == 1 or numRows >= len(s):\n",
    "        return s\n",
    "    r = numRows\n",
    "    A = [''] * numRows\n",
    "    i = 0\n",
    "    d = -1 # -1 go down, 1 go up\n",
    "    for c in s:\n",
    "        A[i] += c\n",
    "        if (i==0) or (i == r-1): d = -1*d\n",
    "        i = i+(d*1)\n",
    "    return ''.join(A)\n",
    "\n",
    "# Example usage\n",
    "input_string = \"PAYPALISHIRING\"\n",
    "num_rows = 4\n",
    "print(convert(input_string, num_rows))"
   ]
  }
 ],
 "metadata": {
  "kernelspec": {
   "display_name": "Python 3",
   "language": "python",
   "name": "python3"
  },
  "language_info": {
   "codemirror_mode": {
    "name": "ipython",
    "version": 3
   },
   "file_extension": ".py",
   "mimetype": "text/x-python",
   "name": "python",
   "nbconvert_exporter": "python",
   "pygments_lexer": "ipython3",
   "version": "3.10.11"
  }
 },
 "nbformat": 4,
 "nbformat_minor": 2
}
