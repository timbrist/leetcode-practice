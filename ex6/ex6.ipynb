{
 "cells": [
  {
   "cell_type": "code",
   "execution_count": 14,
   "metadata": {},
   "outputs": [
    {
     "name": "stdout",
     "output_type": "stream",
     "text": [
      "[[0, 0, 0], [0, 0, 0], [0, 0, 0]]\n",
      "1 0 1\n",
      "1 1 1\n",
      "1 0 1\n"
     ]
    }
   ],
   "source": [
    "def create_z_shape(s,n):\n",
    "    # Initialize a 2D array with 0's\n",
    "    array = [[0 for _ in range(n)] for _ in range(n)]\n",
    "    print(array)\n",
    "    for i in range(n):\n",
    "        # Fill the first row and the last row with 1's\n",
    "        array[i][0] = 1\n",
    "        array[i][n-1] = 1\n",
    "        \n",
    "        # Fill the diagonal from top right to bottom left with 1's\n",
    "        array[i][n-1-i] = 1\n",
    "    \n",
    "    return array\n",
    "\n",
    "def print_array(array):\n",
    "    for row in array:\n",
    "        print(' '.join(str(cell) for cell in row))\n",
    "\n",
    "s = \"PAHNAPLSIIGYIR\"\n",
    "n = 3  # Size of the 2D array\n",
    "z_shape = create_z_shape(s,n)\n",
    "print_array(z_shape)\n"
   ]
  },
  {
   "cell_type": "code",
   "execution_count": null,
   "metadata": {},
   "outputs": [],
   "source": [
    "class Solution:\n",
    "    def convert(self, s: str, numRows: int) -> str:\n",
    "        intermittent = 2*numRows - 2\n",
    "        \n"
   ]
  }
 ],
 "metadata": {
  "kernelspec": {
   "display_name": "Python 3",
   "language": "python",
   "name": "python3"
  },
  "language_info": {
   "codemirror_mode": {
    "name": "ipython",
    "version": 3
   },
   "file_extension": ".py",
   "mimetype": "text/x-python",
   "name": "python",
   "nbconvert_exporter": "python",
   "pygments_lexer": "ipython3",
   "version": "3.10.11"
  }
 },
 "nbformat": 4,
 "nbformat_minor": 2
}
