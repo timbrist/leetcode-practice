{
 "cells": [
  {
   "cell_type": "markdown",
   "metadata": {},
   "source": [
    "## 7. Reverse Integer\n",
    "\n"
   ]
  },
  {
   "cell_type": "markdown",
   "metadata": {},
   "source": [
    "### Analysis \n",
    "Given number $x \\in \\Z$,\n",
    "consider the number x is formed by 0-9 in sequence.  \n",
    "$x = [x_0, x_1, ..., x_n]$  \n",
    "find reverse of x:  $y = J_1(x) = [x_n, x_{n-1},...x_0],$ where $ -2^{31} \\leq y \\leq 2^{31}-1$"
   ]
  },
  {
   "cell_type": "markdown",
   "metadata": {},
   "source": [
    "### Math model\n",
    "\n",
    "\n",
    "$\n",
    "Y = \\empty \\\\ \n",
    "\\forall {k \\in \\N, 10^{k} < x},  \\\\\n",
    "Y \\leftarrow Y^\\frown ( \\lfloor \\frac{x}{10^k} \\rfloor \\mod 10) \n",
    "$"
   ]
  },
  {
   "cell_type": "code",
   "execution_count": 2,
   "metadata": {},
   "outputs": [
    {
     "name": "stdout",
     "output_type": "stream",
     "text": [
      "0\n",
      "0\n"
     ]
    }
   ],
   "source": [
    "x = 12345\n",
    "def g(x):\n",
    "    while x > 0:\n",
    "        print(x%10)\n",
    "        x = x//10\n",
    "\n",
    "def f(x):\n",
    "    if x > 0:\n",
    "        print(x % 10)\n",
    "        f(x // 10)\n",
    "\n",
    "print(f(123456))"
   ]
  },
  {
   "cell_type": "code",
   "execution_count": null,
   "metadata": {},
   "outputs": [],
   "source": [
    "\n",
    "class Solution:\n",
    "    def reverse(self, x: int) -> int:\n",
    "        U = [2,1,4,7,4,8,3,6,4,7]\n",
    "        L = [2,1,4,7,4,8,3,6,4,8]"
   ]
  }
 ],
 "metadata": {
  "kernelspec": {
   "display_name": "Python 3",
   "language": "python",
   "name": "python3"
  },
  "language_info": {
   "codemirror_mode": {
    "name": "ipython",
    "version": 3
   },
   "file_extension": ".py",
   "mimetype": "text/x-python",
   "name": "python",
   "nbconvert_exporter": "python",
   "pygments_lexer": "ipython3",
   "version": "3.10.11"
  }
 },
 "nbformat": 4,
 "nbformat_minor": 2
}
