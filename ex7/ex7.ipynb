{
 "cells": [
  {
   "cell_type": "markdown",
   "metadata": {},
   "source": [
    "## 7. Reverse Integer\n",
    "\n"
   ]
  },
  {
   "cell_type": "markdown",
   "metadata": {},
   "source": [
    "### Analysis \n",
    "Given number $x \\in \\Z$,\n",
    "consider the number x is formed by 0-9 in sequence.  \n",
    "$x = [x_0, x_1, ..., x_n]$  \n",
    "find reverse of x:  $y = J_1(x) = [x_n, x_{n-1},...x_0],$ where $ -2^{31} \\leq y \\leq 2^{31}-1$"
   ]
  },
  {
   "cell_type": "markdown",
   "metadata": {},
   "source": [
    "### Math model\n",
    "\n",
    "#### vector to integer\n",
    "$\n",
    "d:X \\mapsto a = \\{ \n",
    "    \\forall x \\in X: a \\leftarrow a + 10^{i-1}x\n",
    "    \\}\n",
    "$\n",
    "#### integer to vector \n",
    "$\n",
    "f:x \\mapsto X = \\{ \n",
    "    \\forall x > 0: X^\\frown(x\\mod 10); x \\leftarrow \\lfloor \\frac{x}{10} \\rfloor \n",
    "    \\}\n",
    "$\n",
    "\n",
    "\n",
    "$\n",
    "Y = \\empty \\\\ \n",
    "\\forall {x \\in \\Z, x>0},  \\\\\n",
    "Y \\leftarrow Y^\\frown ( x\\mod 10) \\\\\n",
    "x \\leftarrow \\lfloor \\frac{x}{10} \\rfloor\n",
    "$"
   ]
  },
  {
   "cell_type": "code",
   "execution_count": 16,
   "metadata": {},
   "outputs": [
    {
     "name": "stdout",
     "output_type": "stream",
     "text": [
      "7463847412\n",
      "[7, 4, 6, 3, 8, 4, 7, 4, 1, 2]\n",
      "0\n"
     ]
    }
   ],
   "source": [
    "x = 12345\n",
    "\n",
    "#vector to integer\n",
    "def d(X):\n",
    "    k = len(X)\n",
    "    res = 0\n",
    "    for x in X:\n",
    "        res += x*(10**(k-1))\n",
    "        k= k - 1\n",
    "    return res\n",
    "\n",
    "#integer to vector\n",
    "def f(x):\n",
    "    Y = []\n",
    "    while x > 0:\n",
    "        Y.append(x%10)\n",
    "        x = x//10\n",
    "    return Y\n",
    "\n",
    "#check for boundary\n",
    "def g(x,Y):\n",
    "    U = [2,1,4,7,4,8,3,6,4,7]\n",
    "    L = [2,1,4,7,4,8,3,6,4,8]\n",
    "    len_y = len(Y)\n",
    "    if len_y < len(U): return Y\n",
    "    elif len_y == len(U):\n",
    "        if x > 0:\n",
    "            #upper bound check \n",
    "            print(Y)\n",
    "            return h(U,Y)\n",
    "        else:\n",
    "            #lower bound check\n",
    "            return h(L,Y)\n",
    "    else:   return 0\n",
    "\n",
    "#compare to vector, \n",
    "#if all element in Y less than element in X, \n",
    "def h(X,Y):\n",
    "    for i in range(len(X)):\n",
    "        if Y[i] == X[i]:     continue\n",
    "        elif Y[i] > X[i]:    return 0\n",
    "        else: break\n",
    "    return Y\n",
    "\n",
    "x = 2147483647\n",
    "Y = f(x)\n",
    "print(d(Y))\n",
    "print(g(x,Y))"
   ]
  },
  {
   "cell_type": "code",
   "execution_count": 8,
   "metadata": {},
   "outputs": [
    {
     "name": "stdout",
     "output_type": "stream",
     "text": [
      "[9, 6, 4, 6, 3, 2, 4, 3, 5, 1]\n"
     ]
    },
    {
     "ename": "TypeError",
     "evalue": "object of type 'int' has no len()",
     "output_type": "error",
     "traceback": [
      "\u001b[1;31m---------------------------------------------------------------------------\u001b[0m",
      "\u001b[1;31mTypeError\u001b[0m                                 Traceback (most recent call last)",
      "Cell \u001b[1;32mIn[8], line 57\u001b[0m\n\u001b[0;32m     54\u001b[0m         \u001b[38;5;28;01melse\u001b[39;00m:   \u001b[38;5;28;01mreturn\u001b[39;00m \u001b[38;5;241m0\u001b[39m\n\u001b[0;32m     56\u001b[0m s \u001b[38;5;241m=\u001b[39m Solution()\n\u001b[1;32m---> 57\u001b[0m \u001b[38;5;28mprint\u001b[39m(\u001b[43ms\u001b[49m\u001b[38;5;241;43m.\u001b[39;49m\u001b[43mreverse\u001b[49m\u001b[43m(\u001b[49m\u001b[38;5;241;43m1534236469\u001b[39;49m\u001b[43m)\u001b[49m)\n",
      "Cell \u001b[1;32mIn[8], line 12\u001b[0m, in \u001b[0;36mSolution.reverse\u001b[1;34m(self, x)\u001b[0m\n\u001b[0;32m     10\u001b[0m Y \u001b[38;5;241m=\u001b[39m \u001b[38;5;28mself\u001b[39m\u001b[38;5;241m.\u001b[39mf(y)\n\u001b[0;32m     11\u001b[0m YY \u001b[38;5;241m=\u001b[39m \u001b[38;5;28mself\u001b[39m\u001b[38;5;241m.\u001b[39mg(x,Y)\n\u001b[1;32m---> 12\u001b[0m res \u001b[38;5;241m=\u001b[39m \u001b[38;5;28;43mself\u001b[39;49m\u001b[38;5;241;43m.\u001b[39;49m\u001b[43md\u001b[49m\u001b[43m(\u001b[49m\u001b[43mYY\u001b[49m\u001b[43m)\u001b[49m\n\u001b[0;32m     13\u001b[0m \u001b[38;5;28;01mreturn\u001b[39;00m res\u001b[38;5;241m*\u001b[39md\n",
      "Cell \u001b[1;32mIn[8], line 17\u001b[0m, in \u001b[0;36mSolution.d\u001b[1;34m(self, X)\u001b[0m\n\u001b[0;32m     16\u001b[0m \u001b[38;5;28;01mdef\u001b[39;00m \u001b[38;5;21md\u001b[39m(\u001b[38;5;28mself\u001b[39m,X:List[\u001b[38;5;28mint\u001b[39m]) \u001b[38;5;241m-\u001b[39m\u001b[38;5;241m>\u001b[39m\u001b[38;5;28mint\u001b[39m:\n\u001b[1;32m---> 17\u001b[0m     k \u001b[38;5;241m=\u001b[39m \u001b[38;5;28;43mlen\u001b[39;49m\u001b[43m(\u001b[49m\u001b[43mX\u001b[49m\u001b[43m)\u001b[49m\n\u001b[0;32m     18\u001b[0m     res \u001b[38;5;241m=\u001b[39m \u001b[38;5;241m0\u001b[39m\n\u001b[0;32m     19\u001b[0m     \u001b[38;5;28;01mfor\u001b[39;00m x \u001b[38;5;129;01min\u001b[39;00m X:\n",
      "\u001b[1;31mTypeError\u001b[0m: object of type 'int' has no len()"
     ]
    }
   ],
   "source": [
    "from typing import List\n",
    "class Solution:\n",
    "    def reverse(self, x: int) -> int:\n",
    "        res = 0\n",
    "        d = 1 if x>=0 else -1 #direction\n",
    "        y = 0\n",
    "        #eage check\n",
    "        if x == -2147483648: return 0\n",
    "        else: y = d*x\n",
    "        Y = self.f(y)\n",
    "        YY = self.g(x,Y)\n",
    "        if YY == 0: return 0\n",
    "        else: res = self.d(YY)\n",
    "        return res*d\n",
    "\n",
    "    #vector to integer\n",
    "    def d(self,X:List[int]) ->int:\n",
    "        k = len(X)\n",
    "        res = 0\n",
    "        for x in X:\n",
    "            res += x*(10**(k-1))\n",
    "            k= k - 1\n",
    "        return res\n",
    "    \n",
    "    #integer to vector\n",
    "    def f(self,x:int)->List[int]:\n",
    "        Y = []\n",
    "        while x > 0:\n",
    "            Y.append(x%10)\n",
    "            x = x//10\n",
    "        return Y\n",
    "    #compare to vector, \n",
    "    #if all element in Y less than element in X, \n",
    "    def h(self,X,Y):\n",
    "        for i in range(len(X)):\n",
    "            if Y[i] == X[i]:     continue\n",
    "            elif Y[i] > X[i]:    return 0\n",
    "            else: break\n",
    "        return Y\n",
    "    \n",
    "    #check for boundary\n",
    "    def g(self,x,Y):\n",
    "        U = [2,1,4,7,4,8,3,6,4,7]\n",
    "        L = [2,1,4,7,4,8,3,6,4,8]\n",
    "        len_y = len(Y)\n",
    "        if len_y < len(U): return Y\n",
    "        elif len_y == len(U):\n",
    "            if x > 0:\n",
    "                #upper bound check \n",
    "                print(Y)\n",
    "                return self.h(U,Y)\n",
    "            else:\n",
    "                #lower bound check\n",
    "                return self.h(L,Y)\n",
    "        else:   return 0\n",
    "\n",
    "s = Solution()\n",
    "print(s.reverse(1534236469))"
   ]
  }
 ],
 "metadata": {
  "kernelspec": {
   "display_name": "Python 3",
   "language": "python",
   "name": "python3"
  },
  "language_info": {
   "codemirror_mode": {
    "name": "ipython",
    "version": 3
   },
   "file_extension": ".py",
   "mimetype": "text/x-python",
   "name": "python",
   "nbconvert_exporter": "python",
   "pygments_lexer": "ipython3",
   "version": "3.10.11"
  }
 },
 "nbformat": 4,
 "nbformat_minor": 2
}
