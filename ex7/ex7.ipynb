{
 "cells": [
  {
   "cell_type": "markdown",
   "metadata": {},
   "source": [
    "## 7. Reverse Integer\n",
    "\n"
   ]
  },
  {
   "cell_type": "markdown",
   "metadata": {},
   "source": [
    "### Analysis \n",
    "Given number $x \\in \\Z$,\n",
    "consider the number x is formed by 0-9 in sequence.  \n",
    "$x = [x_0, x_1, ..., x_n]$  \n",
    "find reverse of x:  $y = J_1(x) = [x_n, x_{n-1},...x_0],$ where $ -2^{31} \\leq y \\leq 2^{31}-1$"
   ]
  },
  {
   "cell_type": "markdown",
   "metadata": {},
   "source": [
    "### Math model\n",
    "\n",
    "#### vector to integer\n",
    "$\n",
    "d:X \\mapsto a = \\{ \n",
    "    \\forall x \\in X: a \\leftarrow a + 10^{i-1}x\n",
    "    \\}\n",
    "$\n",
    "#### integer to vector \n",
    "$\n",
    "f:x \\mapsto X = \\{ \n",
    "    \\forall x > 0: X^\\frown(x\\mod 10); x \\leftarrow \\lfloor \\frac{x}{10} \\rfloor \n",
    "    \\}\n",
    "$\n",
    "\n",
    "\n",
    "$\n",
    "Y = \\empty \\\\ \n",
    "\\forall {x \\in \\Z, x>0},  \\\\\n",
    "Y \\leftarrow Y^\\frown ( x\\mod 10) \\\\\n",
    "x \\leftarrow \\lfloor \\frac{x}{10} \\rfloor\n",
    "$"
   ]
  },
  {
   "cell_type": "code",
   "execution_count": 9,
   "metadata": {},
   "outputs": [
    {
     "name": "stdout",
     "output_type": "stream",
     "text": [
      "[9, 6, 4, 6, 3, 2, 4, 3, 5, 1]\n",
      "0\n"
     ]
    }
   ],
   "source": [
    "from typing import List\n",
    "class Solution:\n",
    "    def reverse(self, x: int) -> int:\n",
    "        res = 0\n",
    "        d = 1 if x>=0 else -1 #direction\n",
    "        y = 0\n",
    "        #eage check\n",
    "        if x == -2147483648: return 0\n",
    "        else: y = d*x\n",
    "        Y = self.f(y)\n",
    "        YY = self.g(x,Y)\n",
    "        if YY == 0: return 0\n",
    "        else: res = self.d(YY)\n",
    "        return res*d\n",
    "\n",
    "    #vector to integer\n",
    "    def d(self,X:List[int]) ->int:\n",
    "        k = len(X)\n",
    "        res = 0\n",
    "        for x in X:\n",
    "            res += x*(10**(k-1))\n",
    "            k= k - 1\n",
    "        return res\n",
    "    \n",
    "    #integer to vector\n",
    "    def f(self,x:int)->List[int]:\n",
    "        Y = []\n",
    "        while x > 0:\n",
    "            Y.append(x%10)\n",
    "            x = x//10\n",
    "        return Y\n",
    "    #compare to vector, \n",
    "    #if all element in Y less than element in X, \n",
    "    def h(self,X,Y):\n",
    "        for i in range(len(X)):\n",
    "            if Y[i] == X[i]:     continue\n",
    "            elif Y[i] > X[i]:    return 0\n",
    "            else: break\n",
    "        return Y\n",
    "    \n",
    "    #check for boundary\n",
    "    def g(self,x,Y):\n",
    "        U = [2,1,4,7,4,8,3,6,4,7]\n",
    "        L = [2,1,4,7,4,8,3,6,4,8]\n",
    "        len_y = len(Y)\n",
    "        if len_y < len(U): return Y\n",
    "        elif len_y == len(U):\n",
    "            if x > 0:\n",
    "                #upper bound check \n",
    "                print(Y)\n",
    "                return self.h(U,Y)\n",
    "            else:\n",
    "                #lower bound check\n",
    "                return self.h(L,Y)\n",
    "        else:   return 0\n",
    "\n",
    "s = Solution()\n",
    "print(s.reverse(1534236469))"
   ]
  }
 ],
 "metadata": {
  "kernelspec": {
   "display_name": "Python 3",
   "language": "python",
   "name": "python3"
  },
  "language_info": {
   "codemirror_mode": {
    "name": "ipython",
    "version": 3
   },
   "file_extension": ".py",
   "mimetype": "text/x-python",
   "name": "python",
   "nbconvert_exporter": "python",
   "pygments_lexer": "ipython3",
   "version": "3.10.11"
  }
 },
 "nbformat": 4,
 "nbformat_minor": 2
}
