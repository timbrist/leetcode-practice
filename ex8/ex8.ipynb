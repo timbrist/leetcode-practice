{
 "cells": [
  {
   "cell_type": "markdown",
   "metadata": {},
   "source": [
    "# 8. String to Integer (atoi)"
   ]
  },
  {
   "cell_type": "code",
   "execution_count": 11,
   "metadata": {},
   "outputs": [
    {
     "name": "stdout",
     "output_type": "stream",
     "text": [
      "[0, 0, 4, 1, 9, 3]\n",
      "4193\n"
     ]
    }
   ],
   "source": [
    "from typing import List\n",
    "class Solution:\n",
    "    def myAtoi(self, s: str) -> int:\n",
    "        res = 0\n",
    "        d = 1 #direction\n",
    "        N = {'0':0,'1':1,'2':2,'3':3,'4':4,'5':5,'6':6,'7':7,'8':8,'9':9}\n",
    "        D = {'+':1,'-':-1}\n",
    "        X = []\n",
    "        for c in s:\n",
    "            if c in N: \n",
    "                X.append(N[c])\n",
    "        print(X)\n",
    "        res = self.vec2int(X)\n",
    "        return res\n",
    "        #vector to integer\n",
    "    def vec2int(self,X:List[int]) ->int:\n",
    "        k = len(X)\n",
    "        res = 0\n",
    "        for x in X:\n",
    "            res += x*(10**(k-1))\n",
    "            k= k - 1\n",
    "        return res\n",
    "\n",
    "s = Solution()\n",
    "print(s.myAtoi(\"004193 with words\"))"
   ]
  }
 ],
 "metadata": {
  "kernelspec": {
   "display_name": "Python 3",
   "language": "python",
   "name": "python3"
  },
  "language_info": {
   "codemirror_mode": {
    "name": "ipython",
    "version": 3
   },
   "file_extension": ".py",
   "mimetype": "text/x-python",
   "name": "python",
   "nbconvert_exporter": "python",
   "pygments_lexer": "ipython3",
   "version": "3.10.11"
  }
 },
 "nbformat": 4,
 "nbformat_minor": 2
}
